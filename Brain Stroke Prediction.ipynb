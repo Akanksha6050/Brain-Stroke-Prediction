{
 "cells": [
  {
   "cell_type": "markdown",
   "id": "5eaecde9",
   "metadata": {},
   "source": [
    "# Brain Strock Prediction"
   ]
  },
  {
   "cell_type": "markdown",
   "id": "d45a1118",
   "metadata": {},
   "source": [
    "importing libraries "
   ]
  },
  {
   "cell_type": "code",
   "execution_count": 1,
   "id": "53779b3a",
   "metadata": {},
   "outputs": [],
   "source": [
    "import os\n",
    "import numpy as np\n",
    "import pandas as pd\n",
    "import matplotlib.pyplot as plt\n",
    "import seaborn as sns\n",
    "%matplotlib inline\n",
    "\n",
    "from sklearn.preprocessing import MinMaxScaler\n",
    "from sklearn.model_selection import train_test_split, KFold, cross_val_score\n",
    "from sklearn.tree import DecisionTreeClassifier\n",
    "from sklearn.ensemble import RandomForestClassifier, AdaBoostClassifier\n",
    "from sklearn.pipeline import make_pipeline\n",
    "from sklearn.metrics import (\n",
    "    zero_one_loss, \n",
    "    accuracy_score, \n",
    "    f1_score,\n",
    "    confusion_matrix, \n",
    "    ConfusionMatrixDisplay, \n",
    "    classification_report\n",
    ")\n",
    "\n",
    "import warnings\n",
    "warnings.filterwarnings('ignore')"
   ]
  },
  {
   "cell_type": "code",
   "execution_count": 2,
   "id": "3333db38",
   "metadata": {},
   "outputs": [
    {
     "data": {
      "text/html": [
       "<div>\n",
       "<style scoped>\n",
       "    .dataframe tbody tr th:only-of-type {\n",
       "        vertical-align: middle;\n",
       "    }\n",
       "\n",
       "    .dataframe tbody tr th {\n",
       "        vertical-align: top;\n",
       "    }\n",
       "\n",
       "    .dataframe thead th {\n",
       "        text-align: right;\n",
       "    }\n",
       "</style>\n",
       "<table border=\"1\" class=\"dataframe\">\n",
       "  <thead>\n",
       "    <tr style=\"text-align: right;\">\n",
       "      <th></th>\n",
       "      <th>id</th>\n",
       "      <th>gender</th>\n",
       "      <th>age</th>\n",
       "      <th>hypertension</th>\n",
       "      <th>heart_disease</th>\n",
       "      <th>ever_married</th>\n",
       "      <th>work_type</th>\n",
       "      <th>Residence_type</th>\n",
       "      <th>avg_glucose_level</th>\n",
       "      <th>bmi</th>\n",
       "      <th>smoking_status</th>\n",
       "      <th>stroke</th>\n",
       "    </tr>\n",
       "  </thead>\n",
       "  <tbody>\n",
       "    <tr>\n",
       "      <th>0</th>\n",
       "      <td>9046</td>\n",
       "      <td>Male</td>\n",
       "      <td>67.0</td>\n",
       "      <td>0</td>\n",
       "      <td>1</td>\n",
       "      <td>Yes</td>\n",
       "      <td>Private</td>\n",
       "      <td>Urban</td>\n",
       "      <td>228.69</td>\n",
       "      <td>36.6</td>\n",
       "      <td>formerly smoked</td>\n",
       "      <td>1</td>\n",
       "    </tr>\n",
       "    <tr>\n",
       "      <th>1</th>\n",
       "      <td>51676</td>\n",
       "      <td>Female</td>\n",
       "      <td>61.0</td>\n",
       "      <td>0</td>\n",
       "      <td>0</td>\n",
       "      <td>Yes</td>\n",
       "      <td>Self-employed</td>\n",
       "      <td>Rural</td>\n",
       "      <td>202.21</td>\n",
       "      <td>NaN</td>\n",
       "      <td>never smoked</td>\n",
       "      <td>1</td>\n",
       "    </tr>\n",
       "    <tr>\n",
       "      <th>2</th>\n",
       "      <td>31112</td>\n",
       "      <td>Male</td>\n",
       "      <td>80.0</td>\n",
       "      <td>0</td>\n",
       "      <td>1</td>\n",
       "      <td>Yes</td>\n",
       "      <td>Private</td>\n",
       "      <td>Rural</td>\n",
       "      <td>105.92</td>\n",
       "      <td>32.5</td>\n",
       "      <td>never smoked</td>\n",
       "      <td>1</td>\n",
       "    </tr>\n",
       "    <tr>\n",
       "      <th>3</th>\n",
       "      <td>60182</td>\n",
       "      <td>Female</td>\n",
       "      <td>49.0</td>\n",
       "      <td>0</td>\n",
       "      <td>0</td>\n",
       "      <td>Yes</td>\n",
       "      <td>Private</td>\n",
       "      <td>Urban</td>\n",
       "      <td>171.23</td>\n",
       "      <td>34.4</td>\n",
       "      <td>smokes</td>\n",
       "      <td>1</td>\n",
       "    </tr>\n",
       "    <tr>\n",
       "      <th>4</th>\n",
       "      <td>1665</td>\n",
       "      <td>Female</td>\n",
       "      <td>79.0</td>\n",
       "      <td>1</td>\n",
       "      <td>0</td>\n",
       "      <td>Yes</td>\n",
       "      <td>Self-employed</td>\n",
       "      <td>Rural</td>\n",
       "      <td>174.12</td>\n",
       "      <td>24.0</td>\n",
       "      <td>never smoked</td>\n",
       "      <td>1</td>\n",
       "    </tr>\n",
       "    <tr>\n",
       "      <th>...</th>\n",
       "      <td>...</td>\n",
       "      <td>...</td>\n",
       "      <td>...</td>\n",
       "      <td>...</td>\n",
       "      <td>...</td>\n",
       "      <td>...</td>\n",
       "      <td>...</td>\n",
       "      <td>...</td>\n",
       "      <td>...</td>\n",
       "      <td>...</td>\n",
       "      <td>...</td>\n",
       "      <td>...</td>\n",
       "    </tr>\n",
       "    <tr>\n",
       "      <th>5105</th>\n",
       "      <td>18234</td>\n",
       "      <td>Female</td>\n",
       "      <td>80.0</td>\n",
       "      <td>1</td>\n",
       "      <td>0</td>\n",
       "      <td>Yes</td>\n",
       "      <td>Private</td>\n",
       "      <td>Urban</td>\n",
       "      <td>83.75</td>\n",
       "      <td>NaN</td>\n",
       "      <td>never smoked</td>\n",
       "      <td>0</td>\n",
       "    </tr>\n",
       "    <tr>\n",
       "      <th>5106</th>\n",
       "      <td>44873</td>\n",
       "      <td>Female</td>\n",
       "      <td>81.0</td>\n",
       "      <td>0</td>\n",
       "      <td>0</td>\n",
       "      <td>Yes</td>\n",
       "      <td>Self-employed</td>\n",
       "      <td>Urban</td>\n",
       "      <td>125.20</td>\n",
       "      <td>40.0</td>\n",
       "      <td>never smoked</td>\n",
       "      <td>0</td>\n",
       "    </tr>\n",
       "    <tr>\n",
       "      <th>5107</th>\n",
       "      <td>19723</td>\n",
       "      <td>Female</td>\n",
       "      <td>35.0</td>\n",
       "      <td>0</td>\n",
       "      <td>0</td>\n",
       "      <td>Yes</td>\n",
       "      <td>Self-employed</td>\n",
       "      <td>Rural</td>\n",
       "      <td>82.99</td>\n",
       "      <td>30.6</td>\n",
       "      <td>never smoked</td>\n",
       "      <td>0</td>\n",
       "    </tr>\n",
       "    <tr>\n",
       "      <th>5108</th>\n",
       "      <td>37544</td>\n",
       "      <td>Male</td>\n",
       "      <td>51.0</td>\n",
       "      <td>0</td>\n",
       "      <td>0</td>\n",
       "      <td>Yes</td>\n",
       "      <td>Private</td>\n",
       "      <td>Rural</td>\n",
       "      <td>166.29</td>\n",
       "      <td>25.6</td>\n",
       "      <td>formerly smoked</td>\n",
       "      <td>0</td>\n",
       "    </tr>\n",
       "    <tr>\n",
       "      <th>5109</th>\n",
       "      <td>44679</td>\n",
       "      <td>Female</td>\n",
       "      <td>44.0</td>\n",
       "      <td>0</td>\n",
       "      <td>0</td>\n",
       "      <td>Yes</td>\n",
       "      <td>Govt_job</td>\n",
       "      <td>Urban</td>\n",
       "      <td>85.28</td>\n",
       "      <td>26.2</td>\n",
       "      <td>Unknown</td>\n",
       "      <td>0</td>\n",
       "    </tr>\n",
       "  </tbody>\n",
       "</table>\n",
       "<p>5110 rows × 12 columns</p>\n",
       "</div>"
      ],
      "text/plain": [
       "         id  gender   age  hypertension  heart_disease ever_married  \\\n",
       "0      9046    Male  67.0             0              1          Yes   \n",
       "1     51676  Female  61.0             0              0          Yes   \n",
       "2     31112    Male  80.0             0              1          Yes   \n",
       "3     60182  Female  49.0             0              0          Yes   \n",
       "4      1665  Female  79.0             1              0          Yes   \n",
       "...     ...     ...   ...           ...            ...          ...   \n",
       "5105  18234  Female  80.0             1              0          Yes   \n",
       "5106  44873  Female  81.0             0              0          Yes   \n",
       "5107  19723  Female  35.0             0              0          Yes   \n",
       "5108  37544    Male  51.0             0              0          Yes   \n",
       "5109  44679  Female  44.0             0              0          Yes   \n",
       "\n",
       "          work_type Residence_type  avg_glucose_level   bmi   smoking_status  \\\n",
       "0           Private          Urban             228.69  36.6  formerly smoked   \n",
       "1     Self-employed          Rural             202.21   NaN     never smoked   \n",
       "2           Private          Rural             105.92  32.5     never smoked   \n",
       "3           Private          Urban             171.23  34.4           smokes   \n",
       "4     Self-employed          Rural             174.12  24.0     never smoked   \n",
       "...             ...            ...                ...   ...              ...   \n",
       "5105        Private          Urban              83.75   NaN     never smoked   \n",
       "5106  Self-employed          Urban             125.20  40.0     never smoked   \n",
       "5107  Self-employed          Rural              82.99  30.6     never smoked   \n",
       "5108        Private          Rural             166.29  25.6  formerly smoked   \n",
       "5109       Govt_job          Urban              85.28  26.2          Unknown   \n",
       "\n",
       "      stroke  \n",
       "0          1  \n",
       "1          1  \n",
       "2          1  \n",
       "3          1  \n",
       "4          1  \n",
       "...      ...  \n",
       "5105       0  \n",
       "5106       0  \n",
       "5107       0  \n",
       "5108       0  \n",
       "5109       0  \n",
       "\n",
       "[5110 rows x 12 columns]"
      ]
     },
     "execution_count": 2,
     "metadata": {},
     "output_type": "execute_result"
    }
   ],
   "source": [
    "data=pd.read_csv(r\"C:\\Users\\ajadh\\Desktop\\healthcare-dataset-stroke-data.csv\")\n",
    "data"
   ]
  },
  {
   "cell_type": "code",
   "execution_count": 3,
   "id": "953756bc",
   "metadata": {},
   "outputs": [
    {
     "data": {
      "text/plain": [
       "(5110, 12)"
      ]
     },
     "execution_count": 3,
     "metadata": {},
     "output_type": "execute_result"
    }
   ],
   "source": [
    "data.shape"
   ]
  },
  {
   "cell_type": "code",
   "execution_count": 4,
   "id": "2d05b059",
   "metadata": {},
   "outputs": [
    {
     "name": "stdout",
     "output_type": "stream",
     "text": [
      "<class 'pandas.core.frame.DataFrame'>\n",
      "RangeIndex: 5110 entries, 0 to 5109\n",
      "Data columns (total 12 columns):\n",
      " #   Column             Non-Null Count  Dtype  \n",
      "---  ------             --------------  -----  \n",
      " 0   id                 5110 non-null   int64  \n",
      " 1   gender             5110 non-null   object \n",
      " 2   age                5110 non-null   float64\n",
      " 3   hypertension       5110 non-null   int64  \n",
      " 4   heart_disease      5110 non-null   int64  \n",
      " 5   ever_married       5110 non-null   object \n",
      " 6   work_type          5110 non-null   object \n",
      " 7   Residence_type     5110 non-null   object \n",
      " 8   avg_glucose_level  5110 non-null   float64\n",
      " 9   bmi                4909 non-null   float64\n",
      " 10  smoking_status     5110 non-null   object \n",
      " 11  stroke             5110 non-null   int64  \n",
      "dtypes: float64(3), int64(4), object(5)\n",
      "memory usage: 479.2+ KB\n"
     ]
    }
   ],
   "source": [
    "data.info()"
   ]
  },
  {
   "cell_type": "code",
   "execution_count": 5,
   "id": "307b7363",
   "metadata": {},
   "outputs": [
    {
     "data": {
      "text/html": [
       "<div>\n",
       "<style scoped>\n",
       "    .dataframe tbody tr th:only-of-type {\n",
       "        vertical-align: middle;\n",
       "    }\n",
       "\n",
       "    .dataframe tbody tr th {\n",
       "        vertical-align: top;\n",
       "    }\n",
       "\n",
       "    .dataframe thead th {\n",
       "        text-align: right;\n",
       "    }\n",
       "</style>\n",
       "<table border=\"1\" class=\"dataframe\">\n",
       "  <thead>\n",
       "    <tr style=\"text-align: right;\">\n",
       "      <th></th>\n",
       "      <th>id</th>\n",
       "      <th>age</th>\n",
       "      <th>hypertension</th>\n",
       "      <th>heart_disease</th>\n",
       "      <th>avg_glucose_level</th>\n",
       "      <th>bmi</th>\n",
       "      <th>stroke</th>\n",
       "    </tr>\n",
       "  </thead>\n",
       "  <tbody>\n",
       "    <tr>\n",
       "      <th>count</th>\n",
       "      <td>5110.000000</td>\n",
       "      <td>5110.000000</td>\n",
       "      <td>5110.000000</td>\n",
       "      <td>5110.000000</td>\n",
       "      <td>5110.000000</td>\n",
       "      <td>4909.000000</td>\n",
       "      <td>5110.000000</td>\n",
       "    </tr>\n",
       "    <tr>\n",
       "      <th>mean</th>\n",
       "      <td>36517.829354</td>\n",
       "      <td>43.226614</td>\n",
       "      <td>0.097456</td>\n",
       "      <td>0.054012</td>\n",
       "      <td>106.147677</td>\n",
       "      <td>28.893237</td>\n",
       "      <td>0.048728</td>\n",
       "    </tr>\n",
       "    <tr>\n",
       "      <th>std</th>\n",
       "      <td>21161.721625</td>\n",
       "      <td>22.612647</td>\n",
       "      <td>0.296607</td>\n",
       "      <td>0.226063</td>\n",
       "      <td>45.283560</td>\n",
       "      <td>7.854067</td>\n",
       "      <td>0.215320</td>\n",
       "    </tr>\n",
       "    <tr>\n",
       "      <th>min</th>\n",
       "      <td>67.000000</td>\n",
       "      <td>0.080000</td>\n",
       "      <td>0.000000</td>\n",
       "      <td>0.000000</td>\n",
       "      <td>55.120000</td>\n",
       "      <td>10.300000</td>\n",
       "      <td>0.000000</td>\n",
       "    </tr>\n",
       "    <tr>\n",
       "      <th>25%</th>\n",
       "      <td>17741.250000</td>\n",
       "      <td>25.000000</td>\n",
       "      <td>0.000000</td>\n",
       "      <td>0.000000</td>\n",
       "      <td>77.245000</td>\n",
       "      <td>23.500000</td>\n",
       "      <td>0.000000</td>\n",
       "    </tr>\n",
       "    <tr>\n",
       "      <th>50%</th>\n",
       "      <td>36932.000000</td>\n",
       "      <td>45.000000</td>\n",
       "      <td>0.000000</td>\n",
       "      <td>0.000000</td>\n",
       "      <td>91.885000</td>\n",
       "      <td>28.100000</td>\n",
       "      <td>0.000000</td>\n",
       "    </tr>\n",
       "    <tr>\n",
       "      <th>75%</th>\n",
       "      <td>54682.000000</td>\n",
       "      <td>61.000000</td>\n",
       "      <td>0.000000</td>\n",
       "      <td>0.000000</td>\n",
       "      <td>114.090000</td>\n",
       "      <td>33.100000</td>\n",
       "      <td>0.000000</td>\n",
       "    </tr>\n",
       "    <tr>\n",
       "      <th>max</th>\n",
       "      <td>72940.000000</td>\n",
       "      <td>82.000000</td>\n",
       "      <td>1.000000</td>\n",
       "      <td>1.000000</td>\n",
       "      <td>271.740000</td>\n",
       "      <td>97.600000</td>\n",
       "      <td>1.000000</td>\n",
       "    </tr>\n",
       "  </tbody>\n",
       "</table>\n",
       "</div>"
      ],
      "text/plain": [
       "                 id          age  hypertension  heart_disease  \\\n",
       "count   5110.000000  5110.000000   5110.000000    5110.000000   \n",
       "mean   36517.829354    43.226614      0.097456       0.054012   \n",
       "std    21161.721625    22.612647      0.296607       0.226063   \n",
       "min       67.000000     0.080000      0.000000       0.000000   \n",
       "25%    17741.250000    25.000000      0.000000       0.000000   \n",
       "50%    36932.000000    45.000000      0.000000       0.000000   \n",
       "75%    54682.000000    61.000000      0.000000       0.000000   \n",
       "max    72940.000000    82.000000      1.000000       1.000000   \n",
       "\n",
       "       avg_glucose_level          bmi       stroke  \n",
       "count        5110.000000  4909.000000  5110.000000  \n",
       "mean          106.147677    28.893237     0.048728  \n",
       "std            45.283560     7.854067     0.215320  \n",
       "min            55.120000    10.300000     0.000000  \n",
       "25%            77.245000    23.500000     0.000000  \n",
       "50%            91.885000    28.100000     0.000000  \n",
       "75%           114.090000    33.100000     0.000000  \n",
       "max           271.740000    97.600000     1.000000  "
      ]
     },
     "execution_count": 5,
     "metadata": {},
     "output_type": "execute_result"
    }
   ],
   "source": [
    "data.describe()"
   ]
  },
  {
   "cell_type": "code",
   "execution_count": 6,
   "id": "b21bf8e5",
   "metadata": {},
   "outputs": [
    {
     "data": {
      "text/plain": [
       "id                   5110\n",
       "gender                  3\n",
       "age                   104\n",
       "hypertension            2\n",
       "heart_disease           2\n",
       "ever_married            2\n",
       "work_type               5\n",
       "Residence_type          2\n",
       "avg_glucose_level    3979\n",
       "bmi                   418\n",
       "smoking_status          4\n",
       "stroke                  2\n",
       "dtype: int64"
      ]
     },
     "execution_count": 6,
     "metadata": {},
     "output_type": "execute_result"
    }
   ],
   "source": [
    "data.nunique()"
   ]
  },
  {
   "cell_type": "code",
   "execution_count": 7,
   "id": "97172d73",
   "metadata": {},
   "outputs": [
    {
     "data": {
      "text/plain": [
       "id                     int64\n",
       "gender                object\n",
       "age                  float64\n",
       "hypertension           int64\n",
       "heart_disease          int64\n",
       "ever_married          object\n",
       "work_type             object\n",
       "Residence_type        object\n",
       "avg_glucose_level    float64\n",
       "bmi                  float64\n",
       "smoking_status        object\n",
       "stroke                 int64\n",
       "dtype: object"
      ]
     },
     "execution_count": 7,
     "metadata": {},
     "output_type": "execute_result"
    }
   ],
   "source": [
    "data.dtypes"
   ]
  },
  {
   "cell_type": "code",
   "execution_count": 8,
   "id": "dfc890dd",
   "metadata": {},
   "outputs": [
    {
     "data": {
      "text/plain": [
       "0    4861\n",
       "1     249\n",
       "Name: stroke, dtype: int64"
      ]
     },
     "execution_count": 8,
     "metadata": {},
     "output_type": "execute_result"
    }
   ],
   "source": [
    "data.stroke.value_counts()"
   ]
  },
  {
   "cell_type": "raw",
   "id": "1186a5b1",
   "metadata": {},
   "source": [
    "#brain stroke data is having class imbalance problem"
   ]
  },
  {
   "cell_type": "markdown",
   "id": "93f92016",
   "metadata": {},
   "source": [
    "# Drop ID"
   ]
  },
  {
   "cell_type": "code",
   "execution_count": 9,
   "id": "b16d9afd",
   "metadata": {},
   "outputs": [
    {
     "data": {
      "text/plain": [
       "0        9046\n",
       "1       51676\n",
       "2       31112\n",
       "3       60182\n",
       "4        1665\n",
       "        ...  \n",
       "5105    18234\n",
       "5106    44873\n",
       "5107    19723\n",
       "5108    37544\n",
       "5109    44679\n",
       "Name: id, Length: 5110, dtype: int64"
      ]
     },
     "execution_count": 9,
     "metadata": {},
     "output_type": "execute_result"
    }
   ],
   "source": [
    "Id=data[\"id\"]\n",
    "Id"
   ]
  },
  {
   "cell_type": "code",
   "execution_count": 10,
   "id": "bbd2acc8",
   "metadata": {},
   "outputs": [
    {
     "data": {
      "text/html": [
       "<div>\n",
       "<style scoped>\n",
       "    .dataframe tbody tr th:only-of-type {\n",
       "        vertical-align: middle;\n",
       "    }\n",
       "\n",
       "    .dataframe tbody tr th {\n",
       "        vertical-align: top;\n",
       "    }\n",
       "\n",
       "    .dataframe thead th {\n",
       "        text-align: right;\n",
       "    }\n",
       "</style>\n",
       "<table border=\"1\" class=\"dataframe\">\n",
       "  <thead>\n",
       "    <tr style=\"text-align: right;\">\n",
       "      <th></th>\n",
       "      <th>gender</th>\n",
       "      <th>age</th>\n",
       "      <th>hypertension</th>\n",
       "      <th>heart_disease</th>\n",
       "      <th>ever_married</th>\n",
       "      <th>work_type</th>\n",
       "      <th>Residence_type</th>\n",
       "      <th>avg_glucose_level</th>\n",
       "      <th>bmi</th>\n",
       "      <th>smoking_status</th>\n",
       "      <th>stroke</th>\n",
       "    </tr>\n",
       "  </thead>\n",
       "  <tbody>\n",
       "    <tr>\n",
       "      <th>0</th>\n",
       "      <td>Male</td>\n",
       "      <td>67.0</td>\n",
       "      <td>0</td>\n",
       "      <td>1</td>\n",
       "      <td>Yes</td>\n",
       "      <td>Private</td>\n",
       "      <td>Urban</td>\n",
       "      <td>228.69</td>\n",
       "      <td>36.6</td>\n",
       "      <td>formerly smoked</td>\n",
       "      <td>1</td>\n",
       "    </tr>\n",
       "    <tr>\n",
       "      <th>1</th>\n",
       "      <td>Female</td>\n",
       "      <td>61.0</td>\n",
       "      <td>0</td>\n",
       "      <td>0</td>\n",
       "      <td>Yes</td>\n",
       "      <td>Self-employed</td>\n",
       "      <td>Rural</td>\n",
       "      <td>202.21</td>\n",
       "      <td>NaN</td>\n",
       "      <td>never smoked</td>\n",
       "      <td>1</td>\n",
       "    </tr>\n",
       "    <tr>\n",
       "      <th>2</th>\n",
       "      <td>Male</td>\n",
       "      <td>80.0</td>\n",
       "      <td>0</td>\n",
       "      <td>1</td>\n",
       "      <td>Yes</td>\n",
       "      <td>Private</td>\n",
       "      <td>Rural</td>\n",
       "      <td>105.92</td>\n",
       "      <td>32.5</td>\n",
       "      <td>never smoked</td>\n",
       "      <td>1</td>\n",
       "    </tr>\n",
       "    <tr>\n",
       "      <th>3</th>\n",
       "      <td>Female</td>\n",
       "      <td>49.0</td>\n",
       "      <td>0</td>\n",
       "      <td>0</td>\n",
       "      <td>Yes</td>\n",
       "      <td>Private</td>\n",
       "      <td>Urban</td>\n",
       "      <td>171.23</td>\n",
       "      <td>34.4</td>\n",
       "      <td>smokes</td>\n",
       "      <td>1</td>\n",
       "    </tr>\n",
       "    <tr>\n",
       "      <th>4</th>\n",
       "      <td>Female</td>\n",
       "      <td>79.0</td>\n",
       "      <td>1</td>\n",
       "      <td>0</td>\n",
       "      <td>Yes</td>\n",
       "      <td>Self-employed</td>\n",
       "      <td>Rural</td>\n",
       "      <td>174.12</td>\n",
       "      <td>24.0</td>\n",
       "      <td>never smoked</td>\n",
       "      <td>1</td>\n",
       "    </tr>\n",
       "    <tr>\n",
       "      <th>...</th>\n",
       "      <td>...</td>\n",
       "      <td>...</td>\n",
       "      <td>...</td>\n",
       "      <td>...</td>\n",
       "      <td>...</td>\n",
       "      <td>...</td>\n",
       "      <td>...</td>\n",
       "      <td>...</td>\n",
       "      <td>...</td>\n",
       "      <td>...</td>\n",
       "      <td>...</td>\n",
       "    </tr>\n",
       "    <tr>\n",
       "      <th>5105</th>\n",
       "      <td>Female</td>\n",
       "      <td>80.0</td>\n",
       "      <td>1</td>\n",
       "      <td>0</td>\n",
       "      <td>Yes</td>\n",
       "      <td>Private</td>\n",
       "      <td>Urban</td>\n",
       "      <td>83.75</td>\n",
       "      <td>NaN</td>\n",
       "      <td>never smoked</td>\n",
       "      <td>0</td>\n",
       "    </tr>\n",
       "    <tr>\n",
       "      <th>5106</th>\n",
       "      <td>Female</td>\n",
       "      <td>81.0</td>\n",
       "      <td>0</td>\n",
       "      <td>0</td>\n",
       "      <td>Yes</td>\n",
       "      <td>Self-employed</td>\n",
       "      <td>Urban</td>\n",
       "      <td>125.20</td>\n",
       "      <td>40.0</td>\n",
       "      <td>never smoked</td>\n",
       "      <td>0</td>\n",
       "    </tr>\n",
       "    <tr>\n",
       "      <th>5107</th>\n",
       "      <td>Female</td>\n",
       "      <td>35.0</td>\n",
       "      <td>0</td>\n",
       "      <td>0</td>\n",
       "      <td>Yes</td>\n",
       "      <td>Self-employed</td>\n",
       "      <td>Rural</td>\n",
       "      <td>82.99</td>\n",
       "      <td>30.6</td>\n",
       "      <td>never smoked</td>\n",
       "      <td>0</td>\n",
       "    </tr>\n",
       "    <tr>\n",
       "      <th>5108</th>\n",
       "      <td>Male</td>\n",
       "      <td>51.0</td>\n",
       "      <td>0</td>\n",
       "      <td>0</td>\n",
       "      <td>Yes</td>\n",
       "      <td>Private</td>\n",
       "      <td>Rural</td>\n",
       "      <td>166.29</td>\n",
       "      <td>25.6</td>\n",
       "      <td>formerly smoked</td>\n",
       "      <td>0</td>\n",
       "    </tr>\n",
       "    <tr>\n",
       "      <th>5109</th>\n",
       "      <td>Female</td>\n",
       "      <td>44.0</td>\n",
       "      <td>0</td>\n",
       "      <td>0</td>\n",
       "      <td>Yes</td>\n",
       "      <td>Govt_job</td>\n",
       "      <td>Urban</td>\n",
       "      <td>85.28</td>\n",
       "      <td>26.2</td>\n",
       "      <td>Unknown</td>\n",
       "      <td>0</td>\n",
       "    </tr>\n",
       "  </tbody>\n",
       "</table>\n",
       "<p>5110 rows × 11 columns</p>\n",
       "</div>"
      ],
      "text/plain": [
       "      gender   age  hypertension  heart_disease ever_married      work_type  \\\n",
       "0       Male  67.0             0              1          Yes        Private   \n",
       "1     Female  61.0             0              0          Yes  Self-employed   \n",
       "2       Male  80.0             0              1          Yes        Private   \n",
       "3     Female  49.0             0              0          Yes        Private   \n",
       "4     Female  79.0             1              0          Yes  Self-employed   \n",
       "...      ...   ...           ...            ...          ...            ...   \n",
       "5105  Female  80.0             1              0          Yes        Private   \n",
       "5106  Female  81.0             0              0          Yes  Self-employed   \n",
       "5107  Female  35.0             0              0          Yes  Self-employed   \n",
       "5108    Male  51.0             0              0          Yes        Private   \n",
       "5109  Female  44.0             0              0          Yes       Govt_job   \n",
       "\n",
       "     Residence_type  avg_glucose_level   bmi   smoking_status  stroke  \n",
       "0             Urban             228.69  36.6  formerly smoked       1  \n",
       "1             Rural             202.21   NaN     never smoked       1  \n",
       "2             Rural             105.92  32.5     never smoked       1  \n",
       "3             Urban             171.23  34.4           smokes       1  \n",
       "4             Rural             174.12  24.0     never smoked       1  \n",
       "...             ...                ...   ...              ...     ...  \n",
       "5105          Urban              83.75   NaN     never smoked       0  \n",
       "5106          Urban             125.20  40.0     never smoked       0  \n",
       "5107          Rural              82.99  30.6     never smoked       0  \n",
       "5108          Rural             166.29  25.6  formerly smoked       0  \n",
       "5109          Urban              85.28  26.2          Unknown       0  \n",
       "\n",
       "[5110 rows x 11 columns]"
      ]
     },
     "execution_count": 10,
     "metadata": {},
     "output_type": "execute_result"
    }
   ],
   "source": [
    "data=data.drop([\"id\"],axis=1)\n",
    "data\n"
   ]
  },
  {
   "cell_type": "markdown",
   "id": "ce2fa804",
   "metadata": {},
   "source": [
    "# Missing value Treatment"
   ]
  },
  {
   "cell_type": "code",
   "execution_count": 11,
   "id": "8f3db5fe",
   "metadata": {},
   "outputs": [
    {
     "data": {
      "text/plain": [
       "gender                 0\n",
       "age                    0\n",
       "hypertension           0\n",
       "heart_disease          0\n",
       "ever_married           0\n",
       "work_type              0\n",
       "Residence_type         0\n",
       "avg_glucose_level      0\n",
       "bmi                  201\n",
       "smoking_status         0\n",
       "stroke                 0\n",
       "dtype: int64"
      ]
     },
     "execution_count": 11,
     "metadata": {},
     "output_type": "execute_result"
    }
   ],
   "source": [
    "data.isnull().sum()"
   ]
  },
  {
   "cell_type": "raw",
   "id": "580dac7b",
   "metadata": {},
   "source": [
    "the BMI column is having the missing values"
   ]
  },
  {
   "cell_type": "code",
   "execution_count": 12,
   "id": "2a2d0469",
   "metadata": {},
   "outputs": [],
   "source": [
    "data.bmi=data.bmi.fillna(data.bmi.mean()) # replacing the missing values by mean in bmi column"
   ]
  },
  {
   "cell_type": "code",
   "execution_count": 13,
   "id": "70314e7b",
   "metadata": {},
   "outputs": [
    {
     "data": {
      "text/plain": [
       "gender               0\n",
       "age                  0\n",
       "hypertension         0\n",
       "heart_disease        0\n",
       "ever_married         0\n",
       "work_type            0\n",
       "Residence_type       0\n",
       "avg_glucose_level    0\n",
       "bmi                  0\n",
       "smoking_status       0\n",
       "stroke               0\n",
       "dtype: int64"
      ]
     },
     "execution_count": 13,
     "metadata": {},
     "output_type": "execute_result"
    }
   ],
   "source": [
    "data.isnull().sum()"
   ]
  },
  {
   "cell_type": "raw",
   "id": "2c59900a",
   "metadata": {},
   "source": [
    " the missing values in the bmi column is get filled with mean, data is clean"
   ]
  },
  {
   "cell_type": "markdown",
   "id": "c08801af",
   "metadata": {},
   "source": [
    "# Datatypes conversion "
   ]
  },
  {
   "cell_type": "code",
   "execution_count": 14,
   "id": "f4f40f87",
   "metadata": {},
   "outputs": [
    {
     "data": {
      "text/plain": [
       "gender                object\n",
       "age                  float64\n",
       "hypertension           int64\n",
       "heart_disease          int64\n",
       "ever_married          object\n",
       "work_type             object\n",
       "Residence_type        object\n",
       "avg_glucose_level    float64\n",
       "bmi                  float64\n",
       "smoking_status        object\n",
       "stroke                 int64\n",
       "dtype: object"
      ]
     },
     "execution_count": 14,
     "metadata": {},
     "output_type": "execute_result"
    }
   ],
   "source": [
    "data.dtypes"
   ]
  },
  {
   "cell_type": "code",
   "execution_count": 15,
   "id": "d01703d7",
   "metadata": {},
   "outputs": [],
   "source": [
    "from sklearn.preprocessing import LabelEncoder \n",
    "le=LabelEncoder()"
   ]
  },
  {
   "cell_type": "code",
   "execution_count": 16,
   "id": "f0e8aced",
   "metadata": {},
   "outputs": [],
   "source": [
    "data.gender=le.fit_transform(data.gender)"
   ]
  },
  {
   "cell_type": "code",
   "execution_count": 17,
   "id": "4d8dbc6f",
   "metadata": {},
   "outputs": [
    {
     "data": {
      "text/plain": [
       "0    2994\n",
       "1    2115\n",
       "2       1\n",
       "Name: gender, dtype: int64"
      ]
     },
     "execution_count": 17,
     "metadata": {},
     "output_type": "execute_result"
    }
   ],
   "source": [
    "data.gender.value_counts()"
   ]
  },
  {
   "cell_type": "code",
   "execution_count": 18,
   "id": "b5f5f5f5",
   "metadata": {},
   "outputs": [],
   "source": [
    "data.ever_married=le.fit_transform(data.ever_married)"
   ]
  },
  {
   "cell_type": "code",
   "execution_count": 19,
   "id": "b449082a",
   "metadata": {},
   "outputs": [
    {
     "data": {
      "text/plain": [
       "1    3353\n",
       "0    1757\n",
       "Name: ever_married, dtype: int64"
      ]
     },
     "execution_count": 19,
     "metadata": {},
     "output_type": "execute_result"
    }
   ],
   "source": [
    "data.ever_married.value_counts()"
   ]
  },
  {
   "cell_type": "code",
   "execution_count": 20,
   "id": "4323025f",
   "metadata": {},
   "outputs": [],
   "source": [
    "data.work_type=le.fit_transform(data.work_type)"
   ]
  },
  {
   "cell_type": "code",
   "execution_count": 21,
   "id": "2377e2de",
   "metadata": {},
   "outputs": [
    {
     "data": {
      "text/plain": [
       "2    2925\n",
       "3     819\n",
       "4     687\n",
       "0     657\n",
       "1      22\n",
       "Name: work_type, dtype: int64"
      ]
     },
     "execution_count": 21,
     "metadata": {},
     "output_type": "execute_result"
    }
   ],
   "source": [
    "data.work_type.value_counts()"
   ]
  },
  {
   "cell_type": "code",
   "execution_count": 22,
   "id": "930be0ff",
   "metadata": {},
   "outputs": [],
   "source": [
    "data.Residence_type=le.fit_transform(data.Residence_type)"
   ]
  },
  {
   "cell_type": "code",
   "execution_count": 23,
   "id": "a1118c03",
   "metadata": {},
   "outputs": [
    {
     "data": {
      "text/plain": [
       "1    2596\n",
       "0    2514\n",
       "Name: Residence_type, dtype: int64"
      ]
     },
     "execution_count": 23,
     "metadata": {},
     "output_type": "execute_result"
    }
   ],
   "source": [
    "data.Residence_type.value_counts()"
   ]
  },
  {
   "cell_type": "code",
   "execution_count": 24,
   "id": "999b4a06",
   "metadata": {},
   "outputs": [],
   "source": [
    "data.smoking_status=le.fit_transform(data.smoking_status)"
   ]
  },
  {
   "cell_type": "code",
   "execution_count": 25,
   "id": "bd8aa92e",
   "metadata": {},
   "outputs": [
    {
     "data": {
      "text/plain": [
       "2    1892\n",
       "0    1544\n",
       "1     885\n",
       "3     789\n",
       "Name: smoking_status, dtype: int64"
      ]
     },
     "execution_count": 25,
     "metadata": {},
     "output_type": "execute_result"
    }
   ],
   "source": [
    "data.smoking_status.value_counts()"
   ]
  },
  {
   "cell_type": "code",
   "execution_count": 26,
   "id": "5f1124a1",
   "metadata": {},
   "outputs": [
    {
     "data": {
      "text/plain": [
       "gender                 int32\n",
       "age                  float64\n",
       "hypertension           int64\n",
       "heart_disease          int64\n",
       "ever_married           int32\n",
       "work_type              int32\n",
       "Residence_type         int32\n",
       "avg_glucose_level    float64\n",
       "bmi                  float64\n",
       "smoking_status         int32\n",
       "stroke                 int64\n",
       "dtype: object"
      ]
     },
     "execution_count": 26,
     "metadata": {},
     "output_type": "execute_result"
    }
   ],
   "source": [
    "data.dtypes"
   ]
  },
  {
   "cell_type": "markdown",
   "id": "d11566bd",
   "metadata": {},
   "source": [
    "# separation of data into dependent & independent columns"
   ]
  },
  {
   "cell_type": "code",
   "execution_count": 27,
   "id": "ab52179e",
   "metadata": {},
   "outputs": [],
   "source": [
    "train_x=data.iloc[:,0:10]\n",
    "train_y=data.iloc[:,-1]"
   ]
  },
  {
   "cell_type": "code",
   "execution_count": 28,
   "id": "c97a3a9b",
   "metadata": {},
   "outputs": [
    {
     "data": {
      "text/html": [
       "<div>\n",
       "<style scoped>\n",
       "    .dataframe tbody tr th:only-of-type {\n",
       "        vertical-align: middle;\n",
       "    }\n",
       "\n",
       "    .dataframe tbody tr th {\n",
       "        vertical-align: top;\n",
       "    }\n",
       "\n",
       "    .dataframe thead th {\n",
       "        text-align: right;\n",
       "    }\n",
       "</style>\n",
       "<table border=\"1\" class=\"dataframe\">\n",
       "  <thead>\n",
       "    <tr style=\"text-align: right;\">\n",
       "      <th></th>\n",
       "      <th>gender</th>\n",
       "      <th>age</th>\n",
       "      <th>hypertension</th>\n",
       "      <th>heart_disease</th>\n",
       "      <th>ever_married</th>\n",
       "      <th>work_type</th>\n",
       "      <th>Residence_type</th>\n",
       "      <th>avg_glucose_level</th>\n",
       "      <th>bmi</th>\n",
       "      <th>smoking_status</th>\n",
       "    </tr>\n",
       "  </thead>\n",
       "  <tbody>\n",
       "    <tr>\n",
       "      <th>0</th>\n",
       "      <td>1</td>\n",
       "      <td>67.0</td>\n",
       "      <td>0</td>\n",
       "      <td>1</td>\n",
       "      <td>1</td>\n",
       "      <td>2</td>\n",
       "      <td>1</td>\n",
       "      <td>228.69</td>\n",
       "      <td>36.600000</td>\n",
       "      <td>1</td>\n",
       "    </tr>\n",
       "    <tr>\n",
       "      <th>1</th>\n",
       "      <td>0</td>\n",
       "      <td>61.0</td>\n",
       "      <td>0</td>\n",
       "      <td>0</td>\n",
       "      <td>1</td>\n",
       "      <td>3</td>\n",
       "      <td>0</td>\n",
       "      <td>202.21</td>\n",
       "      <td>28.893237</td>\n",
       "      <td>2</td>\n",
       "    </tr>\n",
       "    <tr>\n",
       "      <th>2</th>\n",
       "      <td>1</td>\n",
       "      <td>80.0</td>\n",
       "      <td>0</td>\n",
       "      <td>1</td>\n",
       "      <td>1</td>\n",
       "      <td>2</td>\n",
       "      <td>0</td>\n",
       "      <td>105.92</td>\n",
       "      <td>32.500000</td>\n",
       "      <td>2</td>\n",
       "    </tr>\n",
       "    <tr>\n",
       "      <th>3</th>\n",
       "      <td>0</td>\n",
       "      <td>49.0</td>\n",
       "      <td>0</td>\n",
       "      <td>0</td>\n",
       "      <td>1</td>\n",
       "      <td>2</td>\n",
       "      <td>1</td>\n",
       "      <td>171.23</td>\n",
       "      <td>34.400000</td>\n",
       "      <td>3</td>\n",
       "    </tr>\n",
       "    <tr>\n",
       "      <th>4</th>\n",
       "      <td>0</td>\n",
       "      <td>79.0</td>\n",
       "      <td>1</td>\n",
       "      <td>0</td>\n",
       "      <td>1</td>\n",
       "      <td>3</td>\n",
       "      <td>0</td>\n",
       "      <td>174.12</td>\n",
       "      <td>24.000000</td>\n",
       "      <td>2</td>\n",
       "    </tr>\n",
       "  </tbody>\n",
       "</table>\n",
       "</div>"
      ],
      "text/plain": [
       "   gender   age  hypertension  heart_disease  ever_married  work_type  \\\n",
       "0       1  67.0             0              1             1          2   \n",
       "1       0  61.0             0              0             1          3   \n",
       "2       1  80.0             0              1             1          2   \n",
       "3       0  49.0             0              0             1          2   \n",
       "4       0  79.0             1              0             1          3   \n",
       "\n",
       "   Residence_type  avg_glucose_level        bmi  smoking_status  \n",
       "0               1             228.69  36.600000               1  \n",
       "1               0             202.21  28.893237               2  \n",
       "2               0             105.92  32.500000               2  \n",
       "3               1             171.23  34.400000               3  \n",
       "4               0             174.12  24.000000               2  "
      ]
     },
     "execution_count": 28,
     "metadata": {},
     "output_type": "execute_result"
    }
   ],
   "source": [
    "train_x.head(5)"
   ]
  },
  {
   "cell_type": "code",
   "execution_count": 29,
   "id": "926ed494",
   "metadata": {},
   "outputs": [
    {
     "data": {
      "text/plain": [
       "0    1\n",
       "1    1\n",
       "2    1\n",
       "3    1\n",
       "4    1\n",
       "Name: stroke, dtype: int64"
      ]
     },
     "execution_count": 29,
     "metadata": {},
     "output_type": "execute_result"
    }
   ],
   "source": [
    "train_y.head(5)"
   ]
  },
  {
   "cell_type": "markdown",
   "id": "091da7cf",
   "metadata": {},
   "source": [
    "# Preparing the Data for the Model"
   ]
  },
  {
   "cell_type": "code",
   "execution_count": 30,
   "id": "24074407",
   "metadata": {},
   "outputs": [],
   "source": [
    "x_train,x_test,y_train,y_test=train_test_split(train_x,train_y,test_size=0.2,random_state=100)"
   ]
  },
  {
   "cell_type": "code",
   "execution_count": 31,
   "id": "1fe5a947",
   "metadata": {},
   "outputs": [
    {
     "data": {
      "text/plain": [
       "((4088, 10), (1022, 10), (4088,), (1022,))"
      ]
     },
     "execution_count": 31,
     "metadata": {},
     "output_type": "execute_result"
    }
   ],
   "source": [
    "x_train.shape,x_test.shape,y_train.shape,y_test.shape"
   ]
  },
  {
   "cell_type": "code",
   "execution_count": 32,
   "id": "dae99401",
   "metadata": {},
   "outputs": [
    {
     "data": {
      "text/html": [
       "<div>\n",
       "<style scoped>\n",
       "    .dataframe tbody tr th:only-of-type {\n",
       "        vertical-align: middle;\n",
       "    }\n",
       "\n",
       "    .dataframe tbody tr th {\n",
       "        vertical-align: top;\n",
       "    }\n",
       "\n",
       "    .dataframe thead th {\n",
       "        text-align: right;\n",
       "    }\n",
       "</style>\n",
       "<table border=\"1\" class=\"dataframe\">\n",
       "  <thead>\n",
       "    <tr style=\"text-align: right;\">\n",
       "      <th></th>\n",
       "      <th>gender</th>\n",
       "      <th>age</th>\n",
       "      <th>hypertension</th>\n",
       "      <th>heart_disease</th>\n",
       "      <th>ever_married</th>\n",
       "      <th>work_type</th>\n",
       "      <th>Residence_type</th>\n",
       "      <th>avg_glucose_level</th>\n",
       "      <th>bmi</th>\n",
       "      <th>smoking_status</th>\n",
       "    </tr>\n",
       "  </thead>\n",
       "  <tbody>\n",
       "    <tr>\n",
       "      <th>1098</th>\n",
       "      <td>0</td>\n",
       "      <td>77.0</td>\n",
       "      <td>0</td>\n",
       "      <td>0</td>\n",
       "      <td>1</td>\n",
       "      <td>2</td>\n",
       "      <td>0</td>\n",
       "      <td>75.06</td>\n",
       "      <td>22.0</td>\n",
       "      <td>0</td>\n",
       "    </tr>\n",
       "    <tr>\n",
       "      <th>3465</th>\n",
       "      <td>0</td>\n",
       "      <td>28.0</td>\n",
       "      <td>0</td>\n",
       "      <td>0</td>\n",
       "      <td>1</td>\n",
       "      <td>2</td>\n",
       "      <td>0</td>\n",
       "      <td>141.16</td>\n",
       "      <td>36.7</td>\n",
       "      <td>2</td>\n",
       "    </tr>\n",
       "    <tr>\n",
       "      <th>3160</th>\n",
       "      <td>0</td>\n",
       "      <td>17.0</td>\n",
       "      <td>0</td>\n",
       "      <td>0</td>\n",
       "      <td>0</td>\n",
       "      <td>2</td>\n",
       "      <td>0</td>\n",
       "      <td>88.65</td>\n",
       "      <td>30.3</td>\n",
       "      <td>2</td>\n",
       "    </tr>\n",
       "    <tr>\n",
       "      <th>3594</th>\n",
       "      <td>0</td>\n",
       "      <td>62.0</td>\n",
       "      <td>0</td>\n",
       "      <td>0</td>\n",
       "      <td>1</td>\n",
       "      <td>2</td>\n",
       "      <td>0</td>\n",
       "      <td>226.38</td>\n",
       "      <td>47.4</td>\n",
       "      <td>2</td>\n",
       "    </tr>\n",
       "    <tr>\n",
       "      <th>1249</th>\n",
       "      <td>1</td>\n",
       "      <td>15.0</td>\n",
       "      <td>0</td>\n",
       "      <td>0</td>\n",
       "      <td>0</td>\n",
       "      <td>2</td>\n",
       "      <td>0</td>\n",
       "      <td>78.59</td>\n",
       "      <td>25.1</td>\n",
       "      <td>0</td>\n",
       "    </tr>\n",
       "  </tbody>\n",
       "</table>\n",
       "</div>"
      ],
      "text/plain": [
       "      gender   age  hypertension  heart_disease  ever_married  work_type  \\\n",
       "1098       0  77.0             0              0             1          2   \n",
       "3465       0  28.0             0              0             1          2   \n",
       "3160       0  17.0             0              0             0          2   \n",
       "3594       0  62.0             0              0             1          2   \n",
       "1249       1  15.0             0              0             0          2   \n",
       "\n",
       "      Residence_type  avg_glucose_level   bmi  smoking_status  \n",
       "1098               0              75.06  22.0               0  \n",
       "3465               0             141.16  36.7               2  \n",
       "3160               0              88.65  30.3               2  \n",
       "3594               0             226.38  47.4               2  \n",
       "1249               0              78.59  25.1               0  "
      ]
     },
     "execution_count": 32,
     "metadata": {},
     "output_type": "execute_result"
    }
   ],
   "source": [
    "x_train.head(5)"
   ]
  },
  {
   "cell_type": "code",
   "execution_count": 33,
   "id": "bc31e909",
   "metadata": {},
   "outputs": [
    {
     "data": {
      "text/html": [
       "<div>\n",
       "<style scoped>\n",
       "    .dataframe tbody tr th:only-of-type {\n",
       "        vertical-align: middle;\n",
       "    }\n",
       "\n",
       "    .dataframe tbody tr th {\n",
       "        vertical-align: top;\n",
       "    }\n",
       "\n",
       "    .dataframe thead th {\n",
       "        text-align: right;\n",
       "    }\n",
       "</style>\n",
       "<table border=\"1\" class=\"dataframe\">\n",
       "  <thead>\n",
       "    <tr style=\"text-align: right;\">\n",
       "      <th></th>\n",
       "      <th>gender</th>\n",
       "      <th>age</th>\n",
       "      <th>hypertension</th>\n",
       "      <th>heart_disease</th>\n",
       "      <th>ever_married</th>\n",
       "      <th>work_type</th>\n",
       "      <th>Residence_type</th>\n",
       "      <th>avg_glucose_level</th>\n",
       "      <th>bmi</th>\n",
       "      <th>smoking_status</th>\n",
       "    </tr>\n",
       "  </thead>\n",
       "  <tbody>\n",
       "    <tr>\n",
       "      <th>2918</th>\n",
       "      <td>0</td>\n",
       "      <td>63.0</td>\n",
       "      <td>0</td>\n",
       "      <td>1</td>\n",
       "      <td>1</td>\n",
       "      <td>3</td>\n",
       "      <td>0</td>\n",
       "      <td>239.95</td>\n",
       "      <td>32.2</td>\n",
       "      <td>3</td>\n",
       "    </tr>\n",
       "    <tr>\n",
       "      <th>3056</th>\n",
       "      <td>1</td>\n",
       "      <td>62.0</td>\n",
       "      <td>0</td>\n",
       "      <td>1</td>\n",
       "      <td>1</td>\n",
       "      <td>0</td>\n",
       "      <td>0</td>\n",
       "      <td>73.70</td>\n",
       "      <td>26.2</td>\n",
       "      <td>2</td>\n",
       "    </tr>\n",
       "    <tr>\n",
       "      <th>4916</th>\n",
       "      <td>1</td>\n",
       "      <td>54.0</td>\n",
       "      <td>0</td>\n",
       "      <td>0</td>\n",
       "      <td>1</td>\n",
       "      <td>0</td>\n",
       "      <td>1</td>\n",
       "      <td>72.96</td>\n",
       "      <td>37.7</td>\n",
       "      <td>3</td>\n",
       "    </tr>\n",
       "    <tr>\n",
       "      <th>4003</th>\n",
       "      <td>0</td>\n",
       "      <td>24.0</td>\n",
       "      <td>0</td>\n",
       "      <td>0</td>\n",
       "      <td>0</td>\n",
       "      <td>2</td>\n",
       "      <td>0</td>\n",
       "      <td>147.74</td>\n",
       "      <td>21.4</td>\n",
       "      <td>0</td>\n",
       "    </tr>\n",
       "    <tr>\n",
       "      <th>3332</th>\n",
       "      <td>1</td>\n",
       "      <td>27.0</td>\n",
       "      <td>0</td>\n",
       "      <td>0</td>\n",
       "      <td>1</td>\n",
       "      <td>2</td>\n",
       "      <td>1</td>\n",
       "      <td>114.32</td>\n",
       "      <td>28.1</td>\n",
       "      <td>0</td>\n",
       "    </tr>\n",
       "  </tbody>\n",
       "</table>\n",
       "</div>"
      ],
      "text/plain": [
       "      gender   age  hypertension  heart_disease  ever_married  work_type  \\\n",
       "2918       0  63.0             0              1             1          3   \n",
       "3056       1  62.0             0              1             1          0   \n",
       "4916       1  54.0             0              0             1          0   \n",
       "4003       0  24.0             0              0             0          2   \n",
       "3332       1  27.0             0              0             1          2   \n",
       "\n",
       "      Residence_type  avg_glucose_level   bmi  smoking_status  \n",
       "2918               0             239.95  32.2               3  \n",
       "3056               0              73.70  26.2               2  \n",
       "4916               1              72.96  37.7               3  \n",
       "4003               0             147.74  21.4               0  \n",
       "3332               1             114.32  28.1               0  "
      ]
     },
     "execution_count": 33,
     "metadata": {},
     "output_type": "execute_result"
    }
   ],
   "source": [
    "x_test.head(5)"
   ]
  },
  {
   "cell_type": "code",
   "execution_count": 34,
   "id": "5f928b5e",
   "metadata": {},
   "outputs": [
    {
     "data": {
      "text/plain": [
       "1098    0\n",
       "3465    0\n",
       "3160    0\n",
       "3594    0\n",
       "1249    0\n",
       "Name: stroke, dtype: int64"
      ]
     },
     "execution_count": 34,
     "metadata": {},
     "output_type": "execute_result"
    }
   ],
   "source": [
    "y_train.head(5)"
   ]
  },
  {
   "cell_type": "code",
   "execution_count": 35,
   "id": "c8c35a49",
   "metadata": {},
   "outputs": [
    {
     "data": {
      "text/plain": [
       "2918    0\n",
       "3056    0\n",
       "4916    0\n",
       "4003    0\n",
       "3332    0\n",
       "Name: stroke, dtype: int64"
      ]
     },
     "execution_count": 35,
     "metadata": {},
     "output_type": "execute_result"
    }
   ],
   "source": [
    "y_test.head(5)"
   ]
  },
  {
   "cell_type": "markdown",
   "id": "da85b6d8",
   "metadata": {},
   "source": [
    "# Logistic Regression"
   ]
  },
  {
   "cell_type": "code",
   "execution_count": 36,
   "id": "3a279c75",
   "metadata": {},
   "outputs": [],
   "source": [
    "from sklearn.linear_model import LogisticRegression\n",
    "lg=LogisticRegression()"
   ]
  },
  {
   "cell_type": "code",
   "execution_count": 37,
   "id": "fb5905be",
   "metadata": {},
   "outputs": [],
   "source": [
    "from sklearn.metrics import precision_score,recall_score,f1_score"
   ]
  },
  {
   "cell_type": "code",
   "execution_count": 38,
   "id": "5eb3d7ff",
   "metadata": {},
   "outputs": [
    {
     "data": {
      "text/plain": [
       "LogisticRegression()"
      ]
     },
     "execution_count": 38,
     "metadata": {},
     "output_type": "execute_result"
    }
   ],
   "source": [
    "lg.fit(x_train,y_train)"
   ]
  },
  {
   "cell_type": "code",
   "execution_count": 39,
   "id": "1533b205",
   "metadata": {},
   "outputs": [],
   "source": [
    "lg_p=lg.predict(x_test)"
   ]
  },
  {
   "cell_type": "code",
   "execution_count": 40,
   "id": "00f16a50",
   "metadata": {},
   "outputs": [
    {
     "data": {
      "text/plain": [
       "0.0"
      ]
     },
     "execution_count": 40,
     "metadata": {},
     "output_type": "execute_result"
    }
   ],
   "source": [
    "lg_pr=precision_score(lg_p,y_test)\n",
    "lg_pr"
   ]
  },
  {
   "cell_type": "code",
   "execution_count": 41,
   "id": "0efb1e8e",
   "metadata": {},
   "outputs": [
    {
     "data": {
      "text/plain": [
       "0.0"
      ]
     },
     "execution_count": 41,
     "metadata": {},
     "output_type": "execute_result"
    }
   ],
   "source": [
    "lg_re=recall_score(lg_p,y_test)\n",
    "lg_re"
   ]
  },
  {
   "cell_type": "code",
   "execution_count": 42,
   "id": "5b2ff8b5",
   "metadata": {},
   "outputs": [
    {
     "data": {
      "text/plain": [
       "0.9549902152641878"
      ]
     },
     "execution_count": 42,
     "metadata": {},
     "output_type": "execute_result"
    }
   ],
   "source": [
    "lg_ac=accuracy_score(lg_p,y_test)\n",
    "lg_ac"
   ]
  },
  {
   "cell_type": "code",
   "execution_count": 43,
   "id": "9e10fe40",
   "metadata": {},
   "outputs": [
    {
     "data": {
      "text/plain": [
       "0.0"
      ]
     },
     "execution_count": 43,
     "metadata": {},
     "output_type": "execute_result"
    }
   ],
   "source": [
    "lg_f1=f1_score(lg_p,y_test)\n",
    "lg_f1"
   ]
  },
  {
   "cell_type": "code",
   "execution_count": 44,
   "id": "fb6aa91b",
   "metadata": {},
   "outputs": [],
   "source": [
    "from sklearn.metrics import confusion_matrix"
   ]
  },
  {
   "cell_type": "code",
   "execution_count": 45,
   "id": "14f7d01e",
   "metadata": {},
   "outputs": [
    {
     "data": {
      "text/plain": [
       "array([[976,  46],\n",
       "       [  0,   0]], dtype=int64)"
      ]
     },
     "execution_count": 45,
     "metadata": {},
     "output_type": "execute_result"
    }
   ],
   "source": [
    "lg_cf=confusion_matrix(lg_p,y_test)\n",
    "lg_cf"
   ]
  },
  {
   "cell_type": "code",
   "execution_count": 46,
   "id": "5f061786",
   "metadata": {},
   "outputs": [],
   "source": [
    "from sklearn.metrics import classification_report"
   ]
  },
  {
   "cell_type": "code",
   "execution_count": 47,
   "id": "7b2e0288",
   "metadata": {},
   "outputs": [
    {
     "name": "stdout",
     "output_type": "stream",
     "text": [
      "              precision    recall  f1-score   support\n",
      "\n",
      "           0       1.00      0.95      0.98      1022\n",
      "           1       0.00      0.00      0.00         0\n",
      "\n",
      "    accuracy                           0.95      1022\n",
      "   macro avg       0.50      0.48      0.49      1022\n",
      "weighted avg       1.00      0.95      0.98      1022\n",
      "\n"
     ]
    }
   ],
   "source": [
    "print(classification_report(lg_p,y_test))"
   ]
  },
  {
   "cell_type": "markdown",
   "id": "6933542a",
   "metadata": {},
   "source": [
    "# Decision tree"
   ]
  },
  {
   "cell_type": "code",
   "execution_count": 48,
   "id": "0678818d",
   "metadata": {},
   "outputs": [],
   "source": [
    "from sklearn.tree import DecisionTreeClassifier\n",
    "dt=DecisionTreeClassifier()"
   ]
  },
  {
   "cell_type": "code",
   "execution_count": 49,
   "id": "89c01e59",
   "metadata": {},
   "outputs": [
    {
     "data": {
      "text/plain": [
       "DecisionTreeClassifier()"
      ]
     },
     "execution_count": 49,
     "metadata": {},
     "output_type": "execute_result"
    }
   ],
   "source": [
    "dt.fit(x_train,y_train)"
   ]
  },
  {
   "cell_type": "code",
   "execution_count": 50,
   "id": "e06fc3f4",
   "metadata": {},
   "outputs": [],
   "source": [
    "dt_p=dt.predict(x_test)"
   ]
  },
  {
   "cell_type": "code",
   "execution_count": 51,
   "id": "725e6d30",
   "metadata": {},
   "outputs": [
    {
     "data": {
      "text/plain": [
       "0.10869565217391304"
      ]
     },
     "execution_count": 51,
     "metadata": {},
     "output_type": "execute_result"
    }
   ],
   "source": [
    "dt_pr=precision_score(dt_p,y_test)\n",
    "dt_pr"
   ]
  },
  {
   "cell_type": "code",
   "execution_count": 52,
   "id": "1721ee68",
   "metadata": {},
   "outputs": [
    {
     "data": {
      "text/plain": [
       "0.0847457627118644"
      ]
     },
     "execution_count": 52,
     "metadata": {},
     "output_type": "execute_result"
    }
   ],
   "source": [
    "dt_re=recall_score(dt_p,y_test)\n",
    "dt_re"
   ]
  },
  {
   "cell_type": "code",
   "execution_count": 53,
   "id": "6be485dd",
   "metadata": {},
   "outputs": [
    {
     "data": {
      "text/plain": [
       "0.9070450097847358"
      ]
     },
     "execution_count": 53,
     "metadata": {},
     "output_type": "execute_result"
    }
   ],
   "source": [
    "dt_ac=accuracy_score(dt_p,y_test)\n",
    "dt_ac"
   ]
  },
  {
   "cell_type": "code",
   "execution_count": 54,
   "id": "7bffab22",
   "metadata": {},
   "outputs": [
    {
     "data": {
      "text/plain": [
       "0.09523809523809523"
      ]
     },
     "execution_count": 54,
     "metadata": {},
     "output_type": "execute_result"
    }
   ],
   "source": [
    "dt_f1=f1_score(dt_p,y_test)\n",
    "dt_f1"
   ]
  },
  {
   "cell_type": "code",
   "execution_count": 55,
   "id": "83be3aaf",
   "metadata": {},
   "outputs": [
    {
     "data": {
      "text/plain": [
       "array([[922,  41],\n",
       "       [ 54,   5]], dtype=int64)"
      ]
     },
     "execution_count": 55,
     "metadata": {},
     "output_type": "execute_result"
    }
   ],
   "source": [
    "dt_cf=confusion_matrix(dt_p,y_test)\n",
    "dt_cf"
   ]
  },
  {
   "cell_type": "code",
   "execution_count": 56,
   "id": "e49bcc17",
   "metadata": {},
   "outputs": [
    {
     "data": {
      "text/plain": [
       "90.70450097847358"
      ]
     },
     "execution_count": 56,
     "metadata": {},
     "output_type": "execute_result"
    }
   ],
   "source": [
    "dt_acc=dt_cf.diagonal().sum()/dt_cf.sum()*100\n",
    "dt_acc"
   ]
  },
  {
   "cell_type": "code",
   "execution_count": 57,
   "id": "56665bf6",
   "metadata": {},
   "outputs": [
    {
     "name": "stdout",
     "output_type": "stream",
     "text": [
      "              precision    recall  f1-score   support\n",
      "\n",
      "           0       0.94      0.96      0.95       963\n",
      "           1       0.11      0.08      0.10        59\n",
      "\n",
      "    accuracy                           0.91      1022\n",
      "   macro avg       0.53      0.52      0.52      1022\n",
      "weighted avg       0.90      0.91      0.90      1022\n",
      "\n"
     ]
    }
   ],
   "source": [
    "print(classification_report(dt_p,y_test))"
   ]
  },
  {
   "cell_type": "markdown",
   "id": "63e19eb9",
   "metadata": {},
   "source": [
    "# Random forest"
   ]
  },
  {
   "cell_type": "code",
   "execution_count": 58,
   "id": "95497234",
   "metadata": {},
   "outputs": [],
   "source": [
    "from sklearn.ensemble import RandomForestClassifier\n",
    "rf=RandomForestClassifier()"
   ]
  },
  {
   "cell_type": "code",
   "execution_count": 59,
   "id": "387541bd",
   "metadata": {},
   "outputs": [
    {
     "data": {
      "text/plain": [
       "RandomForestClassifier()"
      ]
     },
     "execution_count": 59,
     "metadata": {},
     "output_type": "execute_result"
    }
   ],
   "source": [
    "rf.fit(x_train,y_train)"
   ]
  },
  {
   "cell_type": "code",
   "execution_count": 60,
   "id": "a87fc492",
   "metadata": {},
   "outputs": [],
   "source": [
    "rf_p=rf.predict(x_test)"
   ]
  },
  {
   "cell_type": "code",
   "execution_count": 61,
   "id": "d48f5faf",
   "metadata": {},
   "outputs": [
    {
     "data": {
      "text/plain": [
       "array([[975,  46],\n",
       "       [  1,   0]], dtype=int64)"
      ]
     },
     "execution_count": 61,
     "metadata": {},
     "output_type": "execute_result"
    }
   ],
   "source": [
    "rf_cf=confusion_matrix(rf_p,y_test)\n",
    "rf_cf"
   ]
  },
  {
   "cell_type": "code",
   "execution_count": 62,
   "id": "6cff2946",
   "metadata": {},
   "outputs": [
    {
     "data": {
      "text/plain": [
       "95.40117416829746"
      ]
     },
     "execution_count": 62,
     "metadata": {},
     "output_type": "execute_result"
    }
   ],
   "source": [
    "rf_acc=rf_cf.diagonal().sum()/rf_cf.sum()*100\n",
    "rf_acc"
   ]
  },
  {
   "cell_type": "code",
   "execution_count": 63,
   "id": "6334c9c5",
   "metadata": {},
   "outputs": [
    {
     "name": "stdout",
     "output_type": "stream",
     "text": [
      "              precision    recall  f1-score   support\n",
      "\n",
      "           0       1.00      0.95      0.98      1021\n",
      "           1       0.00      0.00      0.00         1\n",
      "\n",
      "    accuracy                           0.95      1022\n",
      "   macro avg       0.50      0.48      0.49      1022\n",
      "weighted avg       1.00      0.95      0.98      1022\n",
      "\n"
     ]
    }
   ],
   "source": [
    "print(classification_report(rf_p,y_test))"
   ]
  },
  {
   "cell_type": "code",
   "execution_count": 64,
   "id": "32f13477",
   "metadata": {},
   "outputs": [
    {
     "data": {
      "text/plain": [
       "0.0"
      ]
     },
     "execution_count": 64,
     "metadata": {},
     "output_type": "execute_result"
    }
   ],
   "source": [
    "rf_pr=precision_score(rf_p,y_test)\n",
    "rf_pr"
   ]
  },
  {
   "cell_type": "code",
   "execution_count": 65,
   "id": "ad7e8bdb",
   "metadata": {},
   "outputs": [
    {
     "data": {
      "text/plain": [
       "0.0"
      ]
     },
     "execution_count": 65,
     "metadata": {},
     "output_type": "execute_result"
    }
   ],
   "source": [
    "rf_re=recall_score(rf_p,y_test)\n",
    "rf_re"
   ]
  },
  {
   "cell_type": "code",
   "execution_count": 66,
   "id": "6dff85d4",
   "metadata": {},
   "outputs": [
    {
     "data": {
      "text/plain": [
       "0.9540117416829745"
      ]
     },
     "execution_count": 66,
     "metadata": {},
     "output_type": "execute_result"
    }
   ],
   "source": [
    "rf_ac=accuracy_score(rf_p,y_test)\n",
    "rf_ac"
   ]
  },
  {
   "cell_type": "code",
   "execution_count": 67,
   "id": "93223129",
   "metadata": {},
   "outputs": [
    {
     "data": {
      "text/plain": [
       "0.0"
      ]
     },
     "execution_count": 67,
     "metadata": {},
     "output_type": "execute_result"
    }
   ],
   "source": [
    "rf_f1=f1_score(rf_p,y_test)\n",
    "rf_f1"
   ]
  },
  {
   "cell_type": "markdown",
   "id": "6e47fd10",
   "metadata": {},
   "source": [
    "# KNN"
   ]
  },
  {
   "cell_type": "code",
   "execution_count": 68,
   "id": "c6142470",
   "metadata": {},
   "outputs": [],
   "source": [
    "from sklearn.neighbors import KNeighborsClassifier\n",
    "knn= KNeighborsClassifier(n_neighbors=24)"
   ]
  },
  {
   "cell_type": "code",
   "execution_count": 69,
   "id": "fef487de",
   "metadata": {},
   "outputs": [
    {
     "data": {
      "text/plain": [
       "KNeighborsClassifier(n_neighbors=24)"
      ]
     },
     "execution_count": 69,
     "metadata": {},
     "output_type": "execute_result"
    }
   ],
   "source": [
    "knn.fit(x_train,y_train)"
   ]
  },
  {
   "cell_type": "code",
   "execution_count": 70,
   "id": "a407a17b",
   "metadata": {},
   "outputs": [],
   "source": [
    "k_p=knn.predict(x_test)\n"
   ]
  },
  {
   "cell_type": "code",
   "execution_count": 71,
   "id": "3627ddf3",
   "metadata": {},
   "outputs": [
    {
     "data": {
      "text/plain": [
       "array([[976,  46],\n",
       "       [  0,   0]], dtype=int64)"
      ]
     },
     "execution_count": 71,
     "metadata": {},
     "output_type": "execute_result"
    }
   ],
   "source": [
    "k_cf=confusion_matrix(k_p,y_test)\n",
    "k_cf"
   ]
  },
  {
   "cell_type": "code",
   "execution_count": 72,
   "id": "e34e39b2",
   "metadata": {},
   "outputs": [
    {
     "data": {
      "text/plain": [
       "95.49902152641879"
      ]
     },
     "execution_count": 72,
     "metadata": {},
     "output_type": "execute_result"
    }
   ],
   "source": [
    "k_acc=k_cf.diagonal().sum()/k_cf.sum()*100\n",
    "k_acc"
   ]
  },
  {
   "cell_type": "code",
   "execution_count": 73,
   "id": "68e289eb",
   "metadata": {},
   "outputs": [
    {
     "name": "stdout",
     "output_type": "stream",
     "text": [
      "              precision    recall  f1-score   support\n",
      "\n",
      "           0       1.00      0.95      0.98      1022\n",
      "           1       0.00      0.00      0.00         0\n",
      "\n",
      "    accuracy                           0.95      1022\n",
      "   macro avg       0.50      0.48      0.49      1022\n",
      "weighted avg       1.00      0.95      0.98      1022\n",
      "\n"
     ]
    }
   ],
   "source": [
    "print(classification_report(k_p,y_test))"
   ]
  },
  {
   "cell_type": "code",
   "execution_count": 74,
   "id": "c9135aa0",
   "metadata": {},
   "outputs": [
    {
     "data": {
      "text/plain": [
       "0.0"
      ]
     },
     "execution_count": 74,
     "metadata": {},
     "output_type": "execute_result"
    }
   ],
   "source": [
    "k_pr=precision_score(k_p,y_test)\n",
    "k_pr"
   ]
  },
  {
   "cell_type": "code",
   "execution_count": 75,
   "id": "b19cc38b",
   "metadata": {},
   "outputs": [
    {
     "data": {
      "text/plain": [
       "0.0"
      ]
     },
     "execution_count": 75,
     "metadata": {},
     "output_type": "execute_result"
    }
   ],
   "source": [
    "k_re=recall_score(k_p,y_test)\n",
    "k_re"
   ]
  },
  {
   "cell_type": "code",
   "execution_count": 76,
   "id": "eb182ff1",
   "metadata": {},
   "outputs": [
    {
     "data": {
      "text/plain": [
       "0.9549902152641878"
      ]
     },
     "execution_count": 76,
     "metadata": {},
     "output_type": "execute_result"
    }
   ],
   "source": [
    "k_ac=accuracy_score(k_p,y_test)\n",
    "k_ac"
   ]
  },
  {
   "cell_type": "code",
   "execution_count": 77,
   "id": "63efccac",
   "metadata": {},
   "outputs": [
    {
     "data": {
      "text/plain": [
       "0.0"
      ]
     },
     "execution_count": 77,
     "metadata": {},
     "output_type": "execute_result"
    }
   ],
   "source": [
    "k_f1=f1_score(k_p,y_test)\n",
    "k_f1"
   ]
  },
  {
   "cell_type": "code",
   "execution_count": 78,
   "id": "6e6c7db5",
   "metadata": {},
   "outputs": [],
   "source": [
    "lst=list()"
   ]
  },
  {
   "cell_type": "code",
   "execution_count": 79,
   "id": "f02ccac5",
   "metadata": {},
   "outputs": [],
   "source": [
    "for i in range (1,30):\n",
    "    knn=KNeighborsClassifier(n_neighbors=i)\n",
    "    knn.fit(x_train,y_train)\n",
    "    kn_pred=knn.predict(x_test)\n",
    "    cf_k=confusion_matrix(kn_pred,y_test)\n",
    "    acckn=cf_k.diagonal().sum()/cf_k.sum()*100\n",
    "    lst.append(acckn)"
   ]
  },
  {
   "cell_type": "code",
   "execution_count": 80,
   "id": "3299503e",
   "metadata": {},
   "outputs": [
    {
     "data": {
      "image/png": "[encoded data removed]",
      "text/plain": [
       "<Figure size 640x480 with 1 Axes>"
      ]
     },
     "metadata": {},
     "output_type": "display_data"
    }
   ],
   "source": [
    "import matplotlib.pyplot as plt\n",
    "p=plt.plot(lst)"
   ]
  },
  {
   "cell_type": "markdown",
   "id": "f13b1911",
   "metadata": {},
   "source": [
    "# SVM"
   ]
  },
  {
   "cell_type": "code",
   "execution_count": 81,
   "id": "f189c643",
   "metadata": {},
   "outputs": [],
   "source": [
    "from sklearn.svm import SVC\n",
    "svc=SVC()"
   ]
  },
  {
   "cell_type": "code",
   "execution_count": 82,
   "id": "cee87fac",
   "metadata": {},
   "outputs": [
    {
     "data": {
      "text/plain": [
       "SVC()"
      ]
     },
     "execution_count": 82,
     "metadata": {},
     "output_type": "execute_result"
    }
   ],
   "source": [
    "svc.fit(x_train,y_train)"
   ]
  },
  {
   "cell_type": "code",
   "execution_count": 83,
   "id": "6c7a417e",
   "metadata": {},
   "outputs": [
    {
     "data": {
      "text/plain": [
       "array([0, 0, 0, ..., 0, 0, 0], dtype=int64)"
      ]
     },
     "execution_count": 83,
     "metadata": {},
     "output_type": "execute_result"
    }
   ],
   "source": [
    "s_p=svc.predict(x_test)\n",
    "s_p"
   ]
  },
  {
   "cell_type": "code",
   "execution_count": 84,
   "id": "3acd4335",
   "metadata": {},
   "outputs": [
    {
     "data": {
      "text/plain": [
       "array([[976,  46],\n",
       "       [  0,   0]], dtype=int64)"
      ]
     },
     "execution_count": 84,
     "metadata": {},
     "output_type": "execute_result"
    }
   ],
   "source": [
    "s_cf=confusion_matrix(s_p,y_test)\n",
    "s_cf"
   ]
  },
  {
   "cell_type": "code",
   "execution_count": 85,
   "id": "d6343250",
   "metadata": {},
   "outputs": [
    {
     "data": {
      "text/plain": [
       "95.49902152641879"
      ]
     },
     "execution_count": 85,
     "metadata": {},
     "output_type": "execute_result"
    }
   ],
   "source": [
    "s_acc=s_cf.diagonal().sum()/s_cf.sum()*100\n",
    "s_acc"
   ]
  },
  {
   "cell_type": "code",
   "execution_count": 86,
   "id": "39890241",
   "metadata": {},
   "outputs": [
    {
     "name": "stdout",
     "output_type": "stream",
     "text": [
      "              precision    recall  f1-score   support\n",
      "\n",
      "           0       1.00      0.95      0.98      1022\n",
      "           1       0.00      0.00      0.00         0\n",
      "\n",
      "    accuracy                           0.95      1022\n",
      "   macro avg       0.50      0.48      0.49      1022\n",
      "weighted avg       1.00      0.95      0.98      1022\n",
      "\n"
     ]
    }
   ],
   "source": [
    "print(classification_report(s_p,y_test))"
   ]
  },
  {
   "cell_type": "code",
   "execution_count": 87,
   "id": "c8319d47",
   "metadata": {},
   "outputs": [
    {
     "data": {
      "text/plain": [
       "0.0"
      ]
     },
     "execution_count": 87,
     "metadata": {},
     "output_type": "execute_result"
    }
   ],
   "source": [
    "s_pr=precision_score(s_p,y_test)\n",
    "s_pr"
   ]
  },
  {
   "cell_type": "code",
   "execution_count": 88,
   "id": "706ed0b3",
   "metadata": {},
   "outputs": [
    {
     "data": {
      "text/plain": [
       "0.0"
      ]
     },
     "execution_count": 88,
     "metadata": {},
     "output_type": "execute_result"
    }
   ],
   "source": [
    "s_re=recall_score(s_p,y_test)\n",
    "s_re"
   ]
  },
  {
   "cell_type": "code",
   "execution_count": 89,
   "id": "ffb80055",
   "metadata": {},
   "outputs": [
    {
     "data": {
      "text/plain": [
       "0.9549902152641878"
      ]
     },
     "execution_count": 89,
     "metadata": {},
     "output_type": "execute_result"
    }
   ],
   "source": [
    "s_ac=accuracy_score(s_p,y_test)\n",
    "s_ac"
   ]
  },
  {
   "cell_type": "code",
   "execution_count": 90,
   "id": "bc58ce53",
   "metadata": {},
   "outputs": [
    {
     "data": {
      "text/plain": [
       "0.0"
      ]
     },
     "execution_count": 90,
     "metadata": {},
     "output_type": "execute_result"
    }
   ],
   "source": [
    "s_f1=f1_score(s_p,y_test)\n",
    "s_f1"
   ]
  },
  {
   "cell_type": "markdown",
   "id": "4b454aa4",
   "metadata": {},
   "source": [
    "# naive bayes"
   ]
  },
  {
   "cell_type": "code",
   "execution_count": 91,
   "id": "7f2e3f1d",
   "metadata": {},
   "outputs": [],
   "source": [
    "from sklearn.naive_bayes import MultinomialNB\n",
    "nb=MultinomialNB()"
   ]
  },
  {
   "cell_type": "code",
   "execution_count": 92,
   "id": "e33c5a1c",
   "metadata": {},
   "outputs": [
    {
     "data": {
      "text/plain": [
       "MultinomialNB()"
      ]
     },
     "execution_count": 92,
     "metadata": {},
     "output_type": "execute_result"
    }
   ],
   "source": [
    "nb.fit(x_train,y_train)"
   ]
  },
  {
   "cell_type": "code",
   "execution_count": 93,
   "id": "c1620418",
   "metadata": {},
   "outputs": [],
   "source": [
    "n_p=nb.predict(x_test)"
   ]
  },
  {
   "cell_type": "code",
   "execution_count": 94,
   "id": "958085f9",
   "metadata": {},
   "outputs": [
    {
     "data": {
      "text/plain": [
       "array([[805,  25],\n",
       "       [171,  21]], dtype=int64)"
      ]
     },
     "execution_count": 94,
     "metadata": {},
     "output_type": "execute_result"
    }
   ],
   "source": [
    "nb_cf=confusion_matrix(n_p,y_test)\n",
    "nb_cf"
   ]
  },
  {
   "cell_type": "code",
   "execution_count": 95,
   "id": "871b3e9b",
   "metadata": {},
   "outputs": [
    {
     "data": {
      "text/plain": [
       "80.82191780821918"
      ]
     },
     "execution_count": 95,
     "metadata": {},
     "output_type": "execute_result"
    }
   ],
   "source": [
    "n_acc=nb_cf.diagonal().sum()/nb_cf.sum()*100\n",
    "n_acc"
   ]
  },
  {
   "cell_type": "code",
   "execution_count": 96,
   "id": "d630cf32",
   "metadata": {},
   "outputs": [
    {
     "name": "stdout",
     "output_type": "stream",
     "text": [
      "              precision    recall  f1-score   support\n",
      "\n",
      "           0       0.82      0.97      0.89       830\n",
      "           1       0.46      0.11      0.18       192\n",
      "\n",
      "    accuracy                           0.81      1022\n",
      "   macro avg       0.64      0.54      0.53      1022\n",
      "weighted avg       0.76      0.81      0.76      1022\n",
      "\n"
     ]
    }
   ],
   "source": [
    "print(classification_report(n_p,y_test))"
   ]
  },
  {
   "cell_type": "code",
   "execution_count": 97,
   "id": "a65af9bb",
   "metadata": {},
   "outputs": [
    {
     "data": {
      "text/plain": [
       "0.45652173913043476"
      ]
     },
     "execution_count": 97,
     "metadata": {},
     "output_type": "execute_result"
    }
   ],
   "source": [
    "nb_pr=precision_score(n_p,y_test)\n",
    "nb_pr"
   ]
  },
  {
   "cell_type": "code",
   "execution_count": 98,
   "id": "a69496b3",
   "metadata": {},
   "outputs": [
    {
     "data": {
      "text/plain": [
       "0.109375"
      ]
     },
     "execution_count": 98,
     "metadata": {},
     "output_type": "execute_result"
    }
   ],
   "source": [
    "nb_re=recall_score(n_p,y_test)\n",
    "nb_re"
   ]
  },
  {
   "cell_type": "code",
   "execution_count": 99,
   "id": "ed8bc4e1",
   "metadata": {},
   "outputs": [
    {
     "data": {
      "text/plain": [
       "0.8082191780821918"
      ]
     },
     "execution_count": 99,
     "metadata": {},
     "output_type": "execute_result"
    }
   ],
   "source": [
    "nb_ac=accuracy_score(n_p,y_test)\n",
    "nb_ac"
   ]
  },
  {
   "cell_type": "code",
   "execution_count": 100,
   "id": "ecac88e0",
   "metadata": {},
   "outputs": [
    {
     "data": {
      "text/plain": [
       "0.1764705882352941"
      ]
     },
     "execution_count": 100,
     "metadata": {},
     "output_type": "execute_result"
    }
   ],
   "source": [
    "nb_f1=f1_score(n_p,y_test)\n",
    "nb_f1"
   ]
  },
  {
   "cell_type": "markdown",
   "id": "e581e233",
   "metadata": {},
   "source": [
    "# XGBOOST"
   ]
  },
  {
   "cell_type": "code",
   "execution_count": 101,
   "id": "92482cad",
   "metadata": {},
   "outputs": [],
   "source": [
    "from xgboost import XGBClassifier\n",
    "xgb=XGBClassifier()"
   ]
  },
  {
   "cell_type": "code",
   "execution_count": 102,
   "id": "84d0eb34",
   "metadata": {},
   "outputs": [
    {
     "data": {
      "text/plain": [
       "XGBClassifier(base_score=None, booster=None, callbacks=None,\n",
       "              colsample_bylevel=None, colsample_bynode=None,\n",
       "              colsample_bytree=None, early_stopping_rounds=None,\n",
       "              enable_categorical=False, eval_metric=None, feature_types=None,\n",
       "              gamma=None, gpu_id=None, grow_policy=None, importance_type=None,\n",
       "              interaction_constraints=None, learning_rate=None, max_bin=None,\n",
       "              max_cat_threshold=None, max_cat_to_onehot=None,\n",
       "              max_delta_step=None, max_depth=None, max_leaves=None,\n",
       "              min_child_weight=None, missing=nan, monotone_constraints=None,\n",
       "              n_estimators=100, n_jobs=None, num_parallel_tree=None,\n",
       "              predictor=None, random_state=None, ...)"
      ]
     },
     "execution_count": 102,
     "metadata": {},
     "output_type": "execute_result"
    }
   ],
   "source": [
    "xgb.fit(x_train,y_train)"
   ]
  },
  {
   "cell_type": "code",
   "execution_count": 103,
   "id": "df6a7247",
   "metadata": {},
   "outputs": [],
   "source": [
    "xgb_p=xgb.predict(x_test)"
   ]
  },
  {
   "cell_type": "code",
   "execution_count": 104,
   "id": "43b03e14",
   "metadata": {},
   "outputs": [
    {
     "data": {
      "text/plain": [
       "array([[964,  42],\n",
       "       [ 12,   4]], dtype=int64)"
      ]
     },
     "execution_count": 104,
     "metadata": {},
     "output_type": "execute_result"
    }
   ],
   "source": [
    "xgb_cf=confusion_matrix(xgb_p,y_test)\n",
    "xgb_cf"
   ]
  },
  {
   "cell_type": "code",
   "execution_count": 105,
   "id": "fcf92142",
   "metadata": {},
   "outputs": [],
   "source": [
    "xgb_acc=xgb_cf.diagonal().sum()/xgb_cf.sum()*100"
   ]
  },
  {
   "cell_type": "code",
   "execution_count": 106,
   "id": "9bc86e47",
   "metadata": {},
   "outputs": [
    {
     "name": "stdout",
     "output_type": "stream",
     "text": [
      "              precision    recall  f1-score   support\n",
      "\n",
      "           0       0.99      0.96      0.97      1006\n",
      "           1       0.09      0.25      0.13        16\n",
      "\n",
      "    accuracy                           0.95      1022\n",
      "   macro avg       0.54      0.60      0.55      1022\n",
      "weighted avg       0.97      0.95      0.96      1022\n",
      "\n"
     ]
    }
   ],
   "source": [
    "print(classification_report(xgb_p,y_test))"
   ]
  },
  {
   "cell_type": "code",
   "execution_count": 107,
   "id": "d529ac9a",
   "metadata": {},
   "outputs": [
    {
     "data": {
      "text/plain": [
       "0.08695652173913043"
      ]
     },
     "execution_count": 107,
     "metadata": {},
     "output_type": "execute_result"
    }
   ],
   "source": [
    "xgb_pr=precision_score(xgb_p,y_test)\n",
    "xgb_pr"
   ]
  },
  {
   "cell_type": "code",
   "execution_count": 108,
   "id": "d8bba8c4",
   "metadata": {},
   "outputs": [
    {
     "data": {
      "text/plain": [
       "0.25"
      ]
     },
     "execution_count": 108,
     "metadata": {},
     "output_type": "execute_result"
    }
   ],
   "source": [
    "xgb_re=recall_score(xgb_p,y_test)\n",
    "xgb_re"
   ]
  },
  {
   "cell_type": "code",
   "execution_count": 109,
   "id": "d7c44a3a",
   "metadata": {},
   "outputs": [
    {
     "data": {
      "text/plain": [
       "0.9471624266144814"
      ]
     },
     "execution_count": 109,
     "metadata": {},
     "output_type": "execute_result"
    }
   ],
   "source": [
    "xgb_ac=accuracy_score(xgb_p,y_test)\n",
    "xgb_ac"
   ]
  },
  {
   "cell_type": "code",
   "execution_count": 110,
   "id": "7e69b2b6",
   "metadata": {},
   "outputs": [
    {
     "data": {
      "text/plain": [
       "0.12903225806451613"
      ]
     },
     "execution_count": 110,
     "metadata": {},
     "output_type": "execute_result"
    }
   ],
   "source": [
    "xgb_f1=f1_score(xgb_p,y_test)\n",
    "xgb_f1"
   ]
  },
  {
   "cell_type": "markdown",
   "id": "b63c3522",
   "metadata": {},
   "source": [
    "# ADABoost"
   ]
  },
  {
   "cell_type": "code",
   "execution_count": 111,
   "id": "6acdd4ec",
   "metadata": {},
   "outputs": [],
   "source": [
    "from sklearn.ensemble import AdaBoostClassifier\n",
    "from sklearn.tree import DecisionTreeClassifier"
   ]
  },
  {
   "cell_type": "code",
   "execution_count": 112,
   "id": "4a467425",
   "metadata": {},
   "outputs": [],
   "source": [
    "adbo=AdaBoostClassifier(DecisionTreeClassifier(),n_estimators=5)"
   ]
  },
  {
   "cell_type": "code",
   "execution_count": 113,
   "id": "fa2e5fcc",
   "metadata": {},
   "outputs": [
    {
     "data": {
      "text/plain": [
       "AdaBoostClassifier(base_estimator=DecisionTreeClassifier(), n_estimators=5)"
      ]
     },
     "execution_count": 113,
     "metadata": {},
     "output_type": "execute_result"
    }
   ],
   "source": [
    "adbo.fit(x_train,y_train)"
   ]
  },
  {
   "cell_type": "code",
   "execution_count": 114,
   "id": "87107571",
   "metadata": {},
   "outputs": [
    {
     "data": {
      "text/plain": [
       "array([1, 0, 0, ..., 0, 0, 0], dtype=int64)"
      ]
     },
     "execution_count": 114,
     "metadata": {},
     "output_type": "execute_result"
    }
   ],
   "source": [
    "ad_p=adbo.predict(x_test)\n",
    "ad_p"
   ]
  },
  {
   "cell_type": "code",
   "execution_count": 115,
   "id": "1db2feba",
   "metadata": {},
   "outputs": [
    {
     "data": {
      "text/plain": [
       "array([[929,  40],\n",
       "       [ 47,   6]], dtype=int64)"
      ]
     },
     "execution_count": 115,
     "metadata": {},
     "output_type": "execute_result"
    }
   ],
   "source": [
    "ad_cf=confusion_matrix(ad_p,y_test)\n",
    "ad_cf"
   ]
  },
  {
   "cell_type": "code",
   "execution_count": 116,
   "id": "0f8f0cbf",
   "metadata": {},
   "outputs": [
    {
     "data": {
      "text/plain": [
       "91.48727984344423"
      ]
     },
     "execution_count": 116,
     "metadata": {},
     "output_type": "execute_result"
    }
   ],
   "source": [
    "ad_acc=ad_cf.diagonal().sum()/ad_cf.sum()*100\n",
    "ad_acc"
   ]
  },
  {
   "cell_type": "code",
   "execution_count": 117,
   "id": "118ee5ec",
   "metadata": {},
   "outputs": [
    {
     "name": "stdout",
     "output_type": "stream",
     "text": [
      "              precision    recall  f1-score   support\n",
      "\n",
      "           0       0.95      0.96      0.96       969\n",
      "           1       0.13      0.11      0.12        53\n",
      "\n",
      "    accuracy                           0.91      1022\n",
      "   macro avg       0.54      0.54      0.54      1022\n",
      "weighted avg       0.91      0.91      0.91      1022\n",
      "\n"
     ]
    }
   ],
   "source": [
    "print(classification_report(ad_p,y_test))"
   ]
  },
  {
   "cell_type": "code",
   "execution_count": 118,
   "id": "2b798f42",
   "metadata": {},
   "outputs": [
    {
     "data": {
      "text/plain": [
       "0.13043478260869565"
      ]
     },
     "execution_count": 118,
     "metadata": {},
     "output_type": "execute_result"
    }
   ],
   "source": [
    "ad_pr=precision_score(ad_p,y_test)\n",
    "ad_pr"
   ]
  },
  {
   "cell_type": "code",
   "execution_count": 119,
   "id": "2d58d98d",
   "metadata": {},
   "outputs": [
    {
     "data": {
      "text/plain": [
       "0.11320754716981132"
      ]
     },
     "execution_count": 119,
     "metadata": {},
     "output_type": "execute_result"
    }
   ],
   "source": [
    "ad_re=recall_score(ad_p,y_test)\n",
    "ad_re"
   ]
  },
  {
   "cell_type": "code",
   "execution_count": 120,
   "id": "c2b31d52",
   "metadata": {},
   "outputs": [
    {
     "data": {
      "text/plain": [
       "0.9148727984344422"
      ]
     },
     "execution_count": 120,
     "metadata": {},
     "output_type": "execute_result"
    }
   ],
   "source": [
    "ad_ac=accuracy_score(ad_p,y_test)\n",
    "ad_ac"
   ]
  },
  {
   "cell_type": "code",
   "execution_count": 121,
   "id": "2621f6e6",
   "metadata": {},
   "outputs": [
    {
     "data": {
      "text/plain": [
       "0.1212121212121212"
      ]
     },
     "execution_count": 121,
     "metadata": {},
     "output_type": "execute_result"
    }
   ],
   "source": [
    "ad_f1=f1_score(ad_p,y_test)\n",
    "ad_f1"
   ]
  },
  {
   "cell_type": "code",
   "execution_count": 122,
   "id": "10d01c1c",
   "metadata": {},
   "outputs": [],
   "source": [
    "list1=[\"LOGISTIC REGRESSION\",\"DECISION TREE\",\"RANDOM FOREST\",\"ADA BOOST\",\"XGBOOST\",\"KNN\",\"SVM\",\"NAIVEY BAYES\"]\n",
    "list2=[lg_ac,dt_ac,rf_ac,ad_ac,xgb_ac,k_ac,s_ac,nb_ac]\n",
    "list3=[lg_pr,dt_pr,rf_pr,ad_pr,xgb_pr,k_pr,s_pr,nb_pr]\n",
    "list4=[lg_re,dt_re,rf_re,ad_re,xgb_re,k_re,s_re,nb_re]\n",
    "list5=[lg_f1,dt_f1,rf_f1,ad_f1,xgb_f1,k_f1,s_f1,nb_f1]\n",
    "\n"
   ]
  },
  {
   "cell_type": "code",
   "execution_count": 123,
   "id": "20d6ce13",
   "metadata": {},
   "outputs": [
    {
     "data": {
      "text/html": [
       "<div>\n",
       "<style scoped>\n",
       "    .dataframe tbody tr th:only-of-type {\n",
       "        vertical-align: middle;\n",
       "    }\n",
       "\n",
       "    .dataframe tbody tr th {\n",
       "        vertical-align: top;\n",
       "    }\n",
       "\n",
       "    .dataframe thead th {\n",
       "        text-align: right;\n",
       "    }\n",
       "</style>\n",
       "<table border=\"1\" class=\"dataframe\">\n",
       "  <thead>\n",
       "    <tr style=\"text-align: right;\">\n",
       "      <th></th>\n",
       "      <th>Model Name</th>\n",
       "      <th>Accuracy</th>\n",
       "      <th>Precision</th>\n",
       "      <th>Recall</th>\n",
       "      <th>F1_score</th>\n",
       "    </tr>\n",
       "  </thead>\n",
       "  <tbody>\n",
       "    <tr>\n",
       "      <th>0</th>\n",
       "      <td>LOGISTIC REGRESSION</td>\n",
       "      <td>0.954990</td>\n",
       "      <td>0.000000</td>\n",
       "      <td>0.000000</td>\n",
       "      <td>0.000000</td>\n",
       "    </tr>\n",
       "    <tr>\n",
       "      <th>1</th>\n",
       "      <td>DECISION TREE</td>\n",
       "      <td>0.907045</td>\n",
       "      <td>0.108696</td>\n",
       "      <td>0.084746</td>\n",
       "      <td>0.095238</td>\n",
       "    </tr>\n",
       "    <tr>\n",
       "      <th>2</th>\n",
       "      <td>RANDOM FOREST</td>\n",
       "      <td>0.954012</td>\n",
       "      <td>0.000000</td>\n",
       "      <td>0.000000</td>\n",
       "      <td>0.000000</td>\n",
       "    </tr>\n",
       "    <tr>\n",
       "      <th>3</th>\n",
       "      <td>ADA BOOST</td>\n",
       "      <td>0.914873</td>\n",
       "      <td>0.130435</td>\n",
       "      <td>0.113208</td>\n",
       "      <td>0.121212</td>\n",
       "    </tr>\n",
       "    <tr>\n",
       "      <th>4</th>\n",
       "      <td>XGBOOST</td>\n",
       "      <td>0.947162</td>\n",
       "      <td>0.086957</td>\n",
       "      <td>0.250000</td>\n",
       "      <td>0.129032</td>\n",
       "    </tr>\n",
       "    <tr>\n",
       "      <th>5</th>\n",
       "      <td>KNN</td>\n",
       "      <td>0.954990</td>\n",
       "      <td>0.000000</td>\n",
       "      <td>0.000000</td>\n",
       "      <td>0.000000</td>\n",
       "    </tr>\n",
       "    <tr>\n",
       "      <th>6</th>\n",
       "      <td>SVM</td>\n",
       "      <td>0.954990</td>\n",
       "      <td>0.000000</td>\n",
       "      <td>0.000000</td>\n",
       "      <td>0.000000</td>\n",
       "    </tr>\n",
       "    <tr>\n",
       "      <th>7</th>\n",
       "      <td>NAIVEY BAYES</td>\n",
       "      <td>0.808219</td>\n",
       "      <td>0.456522</td>\n",
       "      <td>0.109375</td>\n",
       "      <td>0.176471</td>\n",
       "    </tr>\n",
       "  </tbody>\n",
       "</table>\n",
       "</div>"
      ],
      "text/plain": [
       "            Model Name  Accuracy  Precision    Recall  F1_score\n",
       "0  LOGISTIC REGRESSION  0.954990   0.000000  0.000000  0.000000\n",
       "1        DECISION TREE  0.907045   0.108696  0.084746  0.095238\n",
       "2        RANDOM FOREST  0.954012   0.000000  0.000000  0.000000\n",
       "3            ADA BOOST  0.914873   0.130435  0.113208  0.121212\n",
       "4              XGBOOST  0.947162   0.086957  0.250000  0.129032\n",
       "5                  KNN  0.954990   0.000000  0.000000  0.000000\n",
       "6                  SVM  0.954990   0.000000  0.000000  0.000000\n",
       "7         NAIVEY BAYES  0.808219   0.456522  0.109375  0.176471"
      ]
     },
     "execution_count": 123,
     "metadata": {},
     "output_type": "execute_result"
    }
   ],
   "source": [
    "df1=pd.DataFrame({\"Model Name\":list1,\"Accuracy\":list2,\"Precision\":list3,\"Recall\":list4,\"F1_score\":list5})\n",
    "df1"
   ]
  },
  {
   "cell_type": "code",
   "execution_count": 124,
   "id": "cd766d02",
   "metadata": {},
   "outputs": [],
   "source": [
    "#from sklearn.metrics import plot_roc_curve\n",
    "#xgb_prob=xgb.predict_proba(data)\n",
    "#xgb_df=pd.DataFrame(xgb_p1)\n",
    "#xgb_fpr,xgb_tpr,xgb_threshold-roc_curve(y_test, xgb_df.iloc[:,1])\n",
    "#plt.plot(xgb_fpr,xgb_tpr)\n",
    "#plt.title('XG Boost')\n",
    "#plt.xlabel('TPR')\n",
    "#plt.ylabel('FPR')\n",
    "#plt.show()"
   ]
  },
  {
   "cell_type": "markdown",
   "id": "54e864ec",
   "metadata": {},
   "source": [
    "# Classimbalance"
   ]
  },
  {
   "cell_type": "markdown",
   "id": "139f371f",
   "metadata": {},
   "source": [
    "# Random over sampling"
   ]
  },
  {
   "cell_type": "code",
   "execution_count": 125,
   "id": "bbb6353e",
   "metadata": {},
   "outputs": [
    {
     "data": {
      "text/plain": [
       "(4861, 249)"
      ]
     },
     "execution_count": 125,
     "metadata": {},
     "output_type": "execute_result"
    }
   ],
   "source": [
    "c_0,c_1=data[\"stroke\"].value_counts()\n",
    "c_0,c_1"
   ]
  },
  {
   "cell_type": "code",
   "execution_count": 126,
   "id": "a926b1de",
   "metadata": {},
   "outputs": [],
   "source": [
    "train_0=data[data[\"stroke\"]==0]\n",
    "train_1=data[data[\"stroke\"]==1]"
   ]
  },
  {
   "cell_type": "code",
   "execution_count": 127,
   "id": "0ef9a8ac",
   "metadata": {},
   "outputs": [
    {
     "data": {
      "text/plain": [
       "((4861, 11), (249, 11))"
      ]
     },
     "execution_count": 127,
     "metadata": {},
     "output_type": "execute_result"
    }
   ],
   "source": [
    "train_0.shape,train_1.shape"
   ]
  },
  {
   "cell_type": "code",
   "execution_count": 128,
   "id": "fc0092dd",
   "metadata": {},
   "outputs": [],
   "source": [
    "class_1over=train_1.sample(c_0,replace=True)"
   ]
  },
  {
   "cell_type": "code",
   "execution_count": 129,
   "id": "cc5c717d",
   "metadata": {},
   "outputs": [],
   "source": [
    "class1_0=pd.concat([class_1over,train_0],axis=0)"
   ]
  },
  {
   "cell_type": "code",
   "execution_count": 130,
   "id": "b147041c",
   "metadata": {},
   "outputs": [
    {
     "data": {
      "text/html": [
       "<div>\n",
       "<style scoped>\n",
       "    .dataframe tbody tr th:only-of-type {\n",
       "        vertical-align: middle;\n",
       "    }\n",
       "\n",
       "    .dataframe tbody tr th {\n",
       "        vertical-align: top;\n",
       "    }\n",
       "\n",
       "    .dataframe thead th {\n",
       "        text-align: right;\n",
       "    }\n",
       "</style>\n",
       "<table border=\"1\" class=\"dataframe\">\n",
       "  <thead>\n",
       "    <tr style=\"text-align: right;\">\n",
       "      <th></th>\n",
       "      <th>gender</th>\n",
       "      <th>age</th>\n",
       "      <th>hypertension</th>\n",
       "      <th>heart_disease</th>\n",
       "      <th>ever_married</th>\n",
       "      <th>work_type</th>\n",
       "      <th>Residence_type</th>\n",
       "      <th>avg_glucose_level</th>\n",
       "      <th>bmi</th>\n",
       "      <th>smoking_status</th>\n",
       "      <th>stroke</th>\n",
       "    </tr>\n",
       "  </thead>\n",
       "  <tbody>\n",
       "    <tr>\n",
       "      <th>241</th>\n",
       "      <td>1</td>\n",
       "      <td>57.0</td>\n",
       "      <td>0</td>\n",
       "      <td>0</td>\n",
       "      <td>1</td>\n",
       "      <td>2</td>\n",
       "      <td>0</td>\n",
       "      <td>197.28</td>\n",
       "      <td>34.5</td>\n",
       "      <td>1</td>\n",
       "      <td>1</td>\n",
       "    </tr>\n",
       "    <tr>\n",
       "      <th>65</th>\n",
       "      <td>1</td>\n",
       "      <td>78.0</td>\n",
       "      <td>1</td>\n",
       "      <td>0</td>\n",
       "      <td>0</td>\n",
       "      <td>2</td>\n",
       "      <td>1</td>\n",
       "      <td>113.01</td>\n",
       "      <td>24.0</td>\n",
       "      <td>2</td>\n",
       "      <td>1</td>\n",
       "    </tr>\n",
       "    <tr>\n",
       "      <th>80</th>\n",
       "      <td>1</td>\n",
       "      <td>59.0</td>\n",
       "      <td>0</td>\n",
       "      <td>0</td>\n",
       "      <td>1</td>\n",
       "      <td>2</td>\n",
       "      <td>0</td>\n",
       "      <td>96.16</td>\n",
       "      <td>44.1</td>\n",
       "      <td>0</td>\n",
       "      <td>1</td>\n",
       "    </tr>\n",
       "    <tr>\n",
       "      <th>38</th>\n",
       "      <td>1</td>\n",
       "      <td>58.0</td>\n",
       "      <td>0</td>\n",
       "      <td>0</td>\n",
       "      <td>0</td>\n",
       "      <td>2</td>\n",
       "      <td>0</td>\n",
       "      <td>92.62</td>\n",
       "      <td>32.0</td>\n",
       "      <td>0</td>\n",
       "      <td>1</td>\n",
       "    </tr>\n",
       "    <tr>\n",
       "      <th>110</th>\n",
       "      <td>1</td>\n",
       "      <td>79.0</td>\n",
       "      <td>0</td>\n",
       "      <td>1</td>\n",
       "      <td>1</td>\n",
       "      <td>2</td>\n",
       "      <td>0</td>\n",
       "      <td>129.98</td>\n",
       "      <td>22.6</td>\n",
       "      <td>1</td>\n",
       "      <td>1</td>\n",
       "    </tr>\n",
       "  </tbody>\n",
       "</table>\n",
       "</div>"
      ],
      "text/plain": [
       "     gender   age  hypertension  heart_disease  ever_married  work_type  \\\n",
       "241       1  57.0             0              0             1          2   \n",
       "65        1  78.0             1              0             0          2   \n",
       "80        1  59.0             0              0             1          2   \n",
       "38        1  58.0             0              0             0          2   \n",
       "110       1  79.0             0              1             1          2   \n",
       "\n",
       "     Residence_type  avg_glucose_level   bmi  smoking_status  stroke  \n",
       "241               0             197.28  34.5               1       1  \n",
       "65                1             113.01  24.0               2       1  \n",
       "80                0              96.16  44.1               0       1  \n",
       "38                0              92.62  32.0               0       1  \n",
       "110               0             129.98  22.6               1       1  "
      ]
     },
     "execution_count": 130,
     "metadata": {},
     "output_type": "execute_result"
    }
   ],
   "source": [
    "class1_0.head(5)\n",
    "#class1_0.shape"
   ]
  },
  {
   "cell_type": "code",
   "execution_count": 131,
   "id": "e181737f",
   "metadata": {},
   "outputs": [
    {
     "data": {
      "text/plain": [
       "1    4861\n",
       "0    4861\n",
       "Name: stroke, dtype: int64"
      ]
     },
     "execution_count": 131,
     "metadata": {},
     "output_type": "execute_result"
    }
   ],
   "source": [
    "class1_0.stroke.value_counts()"
   ]
  },
  {
   "cell_type": "markdown",
   "id": "0d3d8ec0",
   "metadata": {},
   "source": [
    "# Outlier Treatment"
   ]
  },
  {
   "cell_type": "code",
   "execution_count": 132,
   "id": "3bfa00c6",
   "metadata": {},
   "outputs": [
    {
     "data": {
      "text/plain": [
       "<AxesSubplot:>"
      ]
     },
     "execution_count": 132,
     "metadata": {},
     "output_type": "execute_result"
    },
    {
     "data": {
      "image/png": "[encoded data removed]",
      "text/plain": [
       "<Figure size 2000x900 with 1 Axes>"
      ]
     },
     "metadata": {},
     "output_type": "display_data"
    }
   ],
   "source": [
    "fid=plt.figure(figsize=(20,9))\n",
    "sns.boxplot(data=class1_0)"
   ]
  },
  {
   "cell_type": "code",
   "execution_count": 133,
   "id": "2c8e0621",
   "metadata": {},
   "outputs": [],
   "source": [
    "#the columns avg_glucose_level ,bmi having the outliers"
   ]
  },
  {
   "cell_type": "markdown",
   "id": "58a1a82a",
   "metadata": {},
   "source": [
    "# Outlier Treatment for avg_glucose_level column"
   ]
  },
  {
   "cell_type": "code",
   "execution_count": 134,
   "id": "be9f57b3",
   "metadata": {},
   "outputs": [
    {
     "data": {
      "text/plain": [
       "<AxesSubplot:ylabel='avg_glucose_level'>"
      ]
     },
     "execution_count": 134,
     "metadata": {},
     "output_type": "execute_result"
    },
    {
     "data": {
      "image/png": "[encoded data removed]",
      "text/plain": [
       "<Figure size 640x480 with 1 Axes>"
      ]
     },
     "metadata": {},
     "output_type": "display_data"
    }
   ],
   "source": [
    "sns.boxplot(data=class1_0,y=\"avg_glucose_level\")"
   ]
  },
  {
   "cell_type": "code",
   "execution_count": 135,
   "id": "f5b82926",
   "metadata": {},
   "outputs": [
    {
     "data": {
      "text/plain": [
       "<AxesSubplot:>"
      ]
     },
     "execution_count": 135,
     "metadata": {},
     "output_type": "execute_result"
    },
    {
     "data": {
      "image/png": "[encoded data removed]",
      "text/plain": [
       "<Figure size 640x480 with 1 Axes>"
      ]
     },
     "metadata": {},
     "output_type": "display_data"
    }
   ],
   "source": [
    "class1_0.avg_glucose_level.hist()"
   ]
  },
  {
   "cell_type": "code",
   "execution_count": 136,
   "id": "37d1beae",
   "metadata": {},
   "outputs": [
    {
     "data": {
      "text/plain": [
       "<AxesSubplot:xlabel='avg_glucose_level', ylabel='Density'>"
      ]
     },
     "execution_count": 136,
     "metadata": {},
     "output_type": "execute_result"
    },
    {
     "data": {
      "image/png": "[encoded data removed]",
      "text/plain": [
       "<Figure size 500x500 with 1 Axes>"
      ]
     },
     "metadata": {},
     "output_type": "display_data"
    }
   ],
   "source": [
    "fid=plt.figure(figsize=(5,5)) \n",
    "sns.distplot(class1_0.avg_glucose_level)"
   ]
  },
  {
   "cell_type": "code",
   "execution_count": 137,
   "id": "fb4ff920",
   "metadata": {},
   "outputs": [
    {
     "data": {
      "text/plain": [
       "66.81750000000001"
      ]
     },
     "execution_count": 137,
     "metadata": {},
     "output_type": "execute_result"
    }
   ],
   "source": [
    "iqr=class1_0.avg_glucose_level.quantile(0.75)-class1_0.avg_glucose_level.quantile(0.25)\n",
    "iqr"
   ]
  },
  {
   "cell_type": "code",
   "execution_count": 138,
   "id": "a673886d",
   "metadata": {},
   "outputs": [
    {
     "data": {
      "text/plain": [
       "count    9722.000000\n",
       "mean      118.468403\n",
       "std        55.254897\n",
       "min        55.120000\n",
       "25%        78.082500\n",
       "50%        96.590000\n",
       "75%       144.900000\n",
       "max       271.740000\n",
       "Name: avg_glucose_level, dtype: float64"
      ]
     },
     "execution_count": 138,
     "metadata": {},
     "output_type": "execute_result"
    }
   ],
   "source": [
    "class1_0.avg_glucose_level.describe() # avg_glucose_level is numeric variable"
   ]
  },
  {
   "cell_type": "code",
   "execution_count": 139,
   "id": "88700d94",
   "metadata": {},
   "outputs": [
    {
     "data": {
      "text/plain": [
       "82.10     35\n",
       "113.01    33\n",
       "195.23    31\n",
       "90.00     29\n",
       "72.81     28\n",
       "          ..\n",
       "88.53      1\n",
       "239.82     1\n",
       "58.26      1\n",
       "75.92      1\n",
       "85.28      1\n",
       "Name: avg_glucose_level, Length: 3979, dtype: int64"
      ]
     },
     "execution_count": 139,
     "metadata": {},
     "output_type": "execute_result"
    }
   ],
   "source": [
    "class1_0.avg_glucose_level.value_counts()"
   ]
  },
  {
   "cell_type": "code",
   "execution_count": 140,
   "id": "26e90f27",
   "metadata": {},
   "outputs": [
    {
     "name": "stdout",
     "output_type": "stream",
     "text": [
      "-122.37000000000005 345.3525000000001\n"
     ]
    }
   ],
   "source": [
    "lb=class1_0[\"avg_glucose_level\"].quantile(0.25)-(iqr*3)\n",
    "ub=class1_0[\"avg_glucose_level\"].quantile(0.75)+(iqr*3)\n",
    "print(lb,ub)"
   ]
  },
  {
   "cell_type": "code",
   "execution_count": 141,
   "id": "44415014",
   "metadata": {},
   "outputs": [],
   "source": [
    "class1_0.loc[data[\"avg_glucose_level\"]>342.77,\"avg_glucose_level\"]=342.77"
   ]
  },
  {
   "cell_type": "code",
   "execution_count": 142,
   "id": "7597e64d",
   "metadata": {},
   "outputs": [
    {
     "data": {
      "text/plain": [
       "<AxesSubplot:xlabel='avg_glucose_level', ylabel='Density'>"
      ]
     },
     "execution_count": 142,
     "metadata": {},
     "output_type": "execute_result"
    },
    {
     "data": {
      "image/png": "[encoded data removed]",
      "text/plain": [
       "<Figure size 500x500 with 1 Axes>"
      ]
     },
     "metadata": {},
     "output_type": "display_data"
    }
   ],
   "source": [
    "fid=plt.figure(figsize=(5,5))  # Distplot after outlier treatment\n",
    "sns.distplot(class1_0.avg_glucose_level)"
   ]
  },
  {
   "cell_type": "code",
   "execution_count": 143,
   "id": "b8fac688",
   "metadata": {},
   "outputs": [
    {
     "data": {
      "text/plain": [
       "<AxesSubplot:ylabel='bmi'>"
      ]
     },
     "execution_count": 143,
     "metadata": {},
     "output_type": "execute_result"
    },
    {
     "data": {
      "image/png": "[encoded data removed]",
      "text/plain": [
       "<Figure size 640x480 with 1 Axes>"
      ]
     },
     "metadata": {},
     "output_type": "display_data"
    }
   ],
   "source": [
    "sns.boxplot(data=class1_0,y=\"bmi\")"
   ]
  },
  {
   "cell_type": "code",
   "execution_count": 144,
   "id": "7c16a807",
   "metadata": {},
   "outputs": [
    {
     "data": {
      "text/plain": [
       "<AxesSubplot:>"
      ]
     },
     "execution_count": 144,
     "metadata": {},
     "output_type": "execute_result"
    },
    {
     "data": {
      "image/png": "[encoded data removed]",
      "text/plain": [
       "<Figure size 640x480 with 1 Axes>"
      ]
     },
     "metadata": {},
     "output_type": "display_data"
    }
   ],
   "source": [
    "class1_0.bmi.hist()"
   ]
  },
  {
   "cell_type": "code",
   "execution_count": 145,
   "id": "e869ca08",
   "metadata": {},
   "outputs": [
    {
     "data": {
      "text/plain": [
       "<AxesSubplot:xlabel='bmi', ylabel='Density'>"
      ]
     },
     "execution_count": 145,
     "metadata": {},
     "output_type": "execute_result"
    },
    {
     "data": {
      "image/png": "[encoded data removed]",
      "text/plain": [
       "<Figure size 500x500 with 1 Axes>"
      ]
     },
     "metadata": {},
     "output_type": "display_data"
    }
   ],
   "source": [
    "fid=plt.figure(figsize=(5,5)) \n",
    "sns.distplot(class1_0.bmi)"
   ]
  },
  {
   "cell_type": "code",
   "execution_count": 146,
   "id": "2517f074",
   "metadata": {},
   "outputs": [
    {
     "data": {
      "text/plain": [
       "7.300000000000001"
      ]
     },
     "execution_count": 146,
     "metadata": {},
     "output_type": "execute_result"
    }
   ],
   "source": [
    "iqr=class1_0.bmi.quantile(0.75)-class1_0.bmi.quantile(0.25)\n",
    "iqr"
   ]
  },
  {
   "cell_type": "code",
   "execution_count": 147,
   "id": "0bafb93a",
   "metadata": {},
   "outputs": [
    {
     "data": {
      "text/plain": [
       "count    9722.000000\n",
       "mean       29.511346\n",
       "std         6.905271\n",
       "min        10.300000\n",
       "25%        25.300000\n",
       "50%        28.893237\n",
       "75%        32.600000\n",
       "max        97.600000\n",
       "Name: bmi, dtype: float64"
      ]
     },
     "execution_count": 147,
     "metadata": {},
     "output_type": "execute_result"
    }
   ],
   "source": [
    "class1_0.bmi.describe()"
   ]
  },
  {
   "cell_type": "code",
   "execution_count": 148,
   "id": "225e2aa2",
   "metadata": {},
   "outputs": [
    {
     "data": {
      "text/plain": [
       "28.893237    916\n",
       "24.000000    123\n",
       "31.400000    120\n",
       "27.300000    112\n",
       "28.500000     94\n",
       "            ... \n",
       "12.000000      1\n",
       "49.400000      1\n",
       "57.500000      1\n",
       "11.500000      1\n",
       "14.900000      1\n",
       "Name: bmi, Length: 419, dtype: int64"
      ]
     },
     "execution_count": 148,
     "metadata": {},
     "output_type": "execute_result"
    }
   ],
   "source": [
    "class1_0.bmi.value_counts()"
   ]
  },
  {
   "cell_type": "code",
   "execution_count": 149,
   "id": "d91c09b2",
   "metadata": {},
   "outputs": [
    {
     "name": "stdout",
     "output_type": "stream",
     "text": [
      "3.3999999999999986 54.5\n"
     ]
    }
   ],
   "source": [
    "lb=class1_0[\"bmi\"].quantile(0.25)-(iqr*3)\n",
    "ub=class1_0[\"bmi\"].quantile(0.75)+(iqr*3)\n",
    "print(lb,ub)"
   ]
  },
  {
   "cell_type": "code",
   "execution_count": 150,
   "id": "5ec138b8",
   "metadata": {},
   "outputs": [],
   "source": [
    "class1_0.loc[class1_0[\"bmi\"]>54.20000000000001,\"bmi\"]=54.20000000000001"
   ]
  },
  {
   "cell_type": "code",
   "execution_count": 151,
   "id": "9a34778b",
   "metadata": {},
   "outputs": [
    {
     "data": {
      "text/plain": [
       "<AxesSubplot:xlabel='bmi', ylabel='Density'>"
      ]
     },
     "execution_count": 151,
     "metadata": {},
     "output_type": "execute_result"
    },
    {
     "data": {
      "image/png": "[encoded data removed]",
      "text/plain": [
       "<Figure size 500x500 with 1 Axes>"
      ]
     },
     "metadata": {},
     "output_type": "display_data"
    }
   ],
   "source": [
    "fid=plt.figure(figsize=(5,5))  # Distplot after outlier treatment\n",
    "sns.distplot(class1_0.bmi)"
   ]
  },
  {
   "cell_type": "markdown",
   "id": "523c6a29",
   "metadata": {},
   "source": [
    "# Skewness treatment"
   ]
  },
  {
   "cell_type": "code",
   "execution_count": 152,
   "id": "b1e1e750",
   "metadata": {},
   "outputs": [
    {
     "data": {
      "text/plain": [
       "gender               0.305541\n",
       "age                 -0.766109\n",
       "hypertension         1.715023\n",
       "heart_disease        2.304531\n",
       "ever_married        -1.218595\n",
       "work_type           -0.515651\n",
       "Residence_type      -0.104664\n",
       "avg_glucose_level    1.033442\n",
       "bmi                  0.735676\n",
       "smoking_status      -0.087652\n",
       "stroke               0.000000\n",
       "dtype: float64"
      ]
     },
     "execution_count": 152,
     "metadata": {},
     "output_type": "execute_result"
    }
   ],
   "source": [
    "class1_0.skew()"
   ]
  },
  {
   "cell_type": "code",
   "execution_count": 153,
   "id": "c3779bc8",
   "metadata": {},
   "outputs": [
    {
     "data": {
      "text/plain": [
       "82.10     35\n",
       "113.01    33\n",
       "195.23    31\n",
       "90.00     29\n",
       "72.81     28\n",
       "          ..\n",
       "88.53      1\n",
       "239.82     1\n",
       "58.26      1\n",
       "75.92      1\n",
       "85.28      1\n",
       "Name: avg_glucose_level, Length: 3979, dtype: int64"
      ]
     },
     "execution_count": 153,
     "metadata": {},
     "output_type": "execute_result"
    }
   ],
   "source": [
    "class1_0.avg_glucose_level.value_counts()"
   ]
  },
  {
   "cell_type": "code",
   "execution_count": 154,
   "id": "dbe12145",
   "metadata": {},
   "outputs": [
    {
     "data": {
      "text/html": [
       "<div>\n",
       "<style scoped>\n",
       "    .dataframe tbody tr th:only-of-type {\n",
       "        vertical-align: middle;\n",
       "    }\n",
       "\n",
       "    .dataframe tbody tr th {\n",
       "        vertical-align: top;\n",
       "    }\n",
       "\n",
       "    .dataframe thead th {\n",
       "        text-align: right;\n",
       "    }\n",
       "</style>\n",
       "<table border=\"1\" class=\"dataframe\">\n",
       "  <thead>\n",
       "    <tr style=\"text-align: right;\">\n",
       "      <th></th>\n",
       "      <th>gender</th>\n",
       "      <th>age</th>\n",
       "      <th>hypertension</th>\n",
       "      <th>heart_disease</th>\n",
       "      <th>ever_married</th>\n",
       "      <th>work_type</th>\n",
       "      <th>Residence_type</th>\n",
       "      <th>avg_glucose_level</th>\n",
       "      <th>bmi</th>\n",
       "      <th>smoking_status</th>\n",
       "      <th>stroke</th>\n",
       "    </tr>\n",
       "  </thead>\n",
       "  <tbody>\n",
       "  </tbody>\n",
       "</table>\n",
       "</div>"
      ],
      "text/plain": [
       "Empty DataFrame\n",
       "Columns: [gender, age, hypertension, heart_disease, ever_married, work_type, Residence_type, avg_glucose_level, bmi, smoking_status, stroke]\n",
       "Index: []"
      ]
     },
     "execution_count": 154,
     "metadata": {},
     "output_type": "execute_result"
    }
   ],
   "source": [
    "class1_0.loc[data[\"avg_glucose_level\"]==0]"
   ]
  },
  {
   "cell_type": "code",
   "execution_count": 155,
   "id": "a7bb07dc",
   "metadata": {},
   "outputs": [
    {
     "data": {
      "text/plain": [
       "1.0334419052172934"
      ]
     },
     "execution_count": 155,
     "metadata": {},
     "output_type": "execute_result"
    }
   ],
   "source": [
    "class1_0.avg_glucose_level.skew()"
   ]
  },
  {
   "cell_type": "code",
   "execution_count": 156,
   "id": "179020e6",
   "metadata": {},
   "outputs": [],
   "source": [
    "v1=np.log(class1_0.avg_glucose_level)"
   ]
  },
  {
   "cell_type": "code",
   "execution_count": 157,
   "id": "04a9e5ca",
   "metadata": {},
   "outputs": [
    {
     "data": {
      "text/plain": [
       "0.5816252158196833"
      ]
     },
     "execution_count": 157,
     "metadata": {},
     "output_type": "execute_result"
    }
   ],
   "source": [
    "v1.skew()"
   ]
  },
  {
   "cell_type": "code",
   "execution_count": 158,
   "id": "d9c095b8",
   "metadata": {},
   "outputs": [
    {
     "data": {
      "text/html": [
       "<div>\n",
       "<style scoped>\n",
       "    .dataframe tbody tr th:only-of-type {\n",
       "        vertical-align: middle;\n",
       "    }\n",
       "\n",
       "    .dataframe tbody tr th {\n",
       "        vertical-align: top;\n",
       "    }\n",
       "\n",
       "    .dataframe thead th {\n",
       "        text-align: right;\n",
       "    }\n",
       "</style>\n",
       "<table border=\"1\" class=\"dataframe\">\n",
       "  <thead>\n",
       "    <tr style=\"text-align: right;\">\n",
       "      <th></th>\n",
       "      <th>gender</th>\n",
       "      <th>age</th>\n",
       "      <th>hypertension</th>\n",
       "      <th>heart_disease</th>\n",
       "      <th>ever_married</th>\n",
       "      <th>work_type</th>\n",
       "      <th>Residence_type</th>\n",
       "      <th>avg_glucose_level</th>\n",
       "      <th>bmi</th>\n",
       "      <th>smoking_status</th>\n",
       "      <th>stroke</th>\n",
       "    </tr>\n",
       "  </thead>\n",
       "  <tbody>\n",
       "    <tr>\n",
       "      <th>241</th>\n",
       "      <td>1</td>\n",
       "      <td>57.0</td>\n",
       "      <td>0</td>\n",
       "      <td>0</td>\n",
       "      <td>1</td>\n",
       "      <td>2</td>\n",
       "      <td>0</td>\n",
       "      <td>197.28</td>\n",
       "      <td>34.5</td>\n",
       "      <td>1</td>\n",
       "      <td>1</td>\n",
       "    </tr>\n",
       "    <tr>\n",
       "      <th>65</th>\n",
       "      <td>1</td>\n",
       "      <td>78.0</td>\n",
       "      <td>1</td>\n",
       "      <td>0</td>\n",
       "      <td>0</td>\n",
       "      <td>2</td>\n",
       "      <td>1</td>\n",
       "      <td>113.01</td>\n",
       "      <td>24.0</td>\n",
       "      <td>2</td>\n",
       "      <td>1</td>\n",
       "    </tr>\n",
       "    <tr>\n",
       "      <th>80</th>\n",
       "      <td>1</td>\n",
       "      <td>59.0</td>\n",
       "      <td>0</td>\n",
       "      <td>0</td>\n",
       "      <td>1</td>\n",
       "      <td>2</td>\n",
       "      <td>0</td>\n",
       "      <td>96.16</td>\n",
       "      <td>44.1</td>\n",
       "      <td>0</td>\n",
       "      <td>1</td>\n",
       "    </tr>\n",
       "    <tr>\n",
       "      <th>38</th>\n",
       "      <td>1</td>\n",
       "      <td>58.0</td>\n",
       "      <td>0</td>\n",
       "      <td>0</td>\n",
       "      <td>0</td>\n",
       "      <td>2</td>\n",
       "      <td>0</td>\n",
       "      <td>92.62</td>\n",
       "      <td>32.0</td>\n",
       "      <td>0</td>\n",
       "      <td>1</td>\n",
       "    </tr>\n",
       "    <tr>\n",
       "      <th>110</th>\n",
       "      <td>1</td>\n",
       "      <td>79.0</td>\n",
       "      <td>0</td>\n",
       "      <td>1</td>\n",
       "      <td>1</td>\n",
       "      <td>2</td>\n",
       "      <td>0</td>\n",
       "      <td>129.98</td>\n",
       "      <td>22.6</td>\n",
       "      <td>1</td>\n",
       "      <td>1</td>\n",
       "    </tr>\n",
       "  </tbody>\n",
       "</table>\n",
       "</div>"
      ],
      "text/plain": [
       "     gender   age  hypertension  heart_disease  ever_married  work_type  \\\n",
       "241       1  57.0             0              0             1          2   \n",
       "65        1  78.0             1              0             0          2   \n",
       "80        1  59.0             0              0             1          2   \n",
       "38        1  58.0             0              0             0          2   \n",
       "110       1  79.0             0              1             1          2   \n",
       "\n",
       "     Residence_type  avg_glucose_level   bmi  smoking_status  stroke  \n",
       "241               0             197.28  34.5               1       1  \n",
       "65                1             113.01  24.0               2       1  \n",
       "80                0              96.16  44.1               0       1  \n",
       "38                0              92.62  32.0               0       1  \n",
       "110               0             129.98  22.6               1       1  "
      ]
     },
     "execution_count": 158,
     "metadata": {},
     "output_type": "execute_result"
    }
   ],
   "source": [
    "class1_0.head()"
   ]
  },
  {
   "cell_type": "code",
   "execution_count": 159,
   "id": "37a5c39a",
   "metadata": {},
   "outputs": [
    {
     "data": {
      "text/html": [
       "<div>\n",
       "<style scoped>\n",
       "    .dataframe tbody tr th:only-of-type {\n",
       "        vertical-align: middle;\n",
       "    }\n",
       "\n",
       "    .dataframe tbody tr th {\n",
       "        vertical-align: top;\n",
       "    }\n",
       "\n",
       "    .dataframe thead th {\n",
       "        text-align: right;\n",
       "    }\n",
       "</style>\n",
       "<table border=\"1\" class=\"dataframe\">\n",
       "  <thead>\n",
       "    <tr style=\"text-align: right;\">\n",
       "      <th></th>\n",
       "      <th>gender</th>\n",
       "      <th>age</th>\n",
       "      <th>hypertension</th>\n",
       "      <th>heart_disease</th>\n",
       "      <th>ever_married</th>\n",
       "      <th>work_type</th>\n",
       "      <th>Residence_type</th>\n",
       "      <th>avg_glucose_level</th>\n",
       "      <th>bmi</th>\n",
       "      <th>smoking_status</th>\n",
       "      <th>stroke</th>\n",
       "    </tr>\n",
       "  </thead>\n",
       "  <tbody>\n",
       "    <tr>\n",
       "      <th>gender</th>\n",
       "      <td>1.000000</td>\n",
       "      <td>0.013869</td>\n",
       "      <td>0.004150</td>\n",
       "      <td>0.146019</td>\n",
       "      <td>0.032816</td>\n",
       "      <td>0.041384</td>\n",
       "      <td>-0.009780</td>\n",
       "      <td>0.115748</td>\n",
       "      <td>0.005581</td>\n",
       "      <td>-0.043246</td>\n",
       "      <td>0.023917</td>\n",
       "    </tr>\n",
       "    <tr>\n",
       "      <th>age</th>\n",
       "      <td>0.013869</td>\n",
       "      <td>1.000000</td>\n",
       "      <td>0.266853</td>\n",
       "      <td>0.269509</td>\n",
       "      <td>0.558420</td>\n",
       "      <td>-0.246327</td>\n",
       "      <td>0.018469</td>\n",
       "      <td>0.262296</td>\n",
       "      <td>0.188686</td>\n",
       "      <td>0.174988</td>\n",
       "      <td>0.580515</td>\n",
       "    </tr>\n",
       "    <tr>\n",
       "      <th>hypertension</th>\n",
       "      <td>0.004150</td>\n",
       "      <td>0.266853</td>\n",
       "      <td>1.000000</td>\n",
       "      <td>0.082912</td>\n",
       "      <td>0.089516</td>\n",
       "      <td>0.006859</td>\n",
       "      <td>-0.030845</td>\n",
       "      <td>0.152014</td>\n",
       "      <td>0.109439</td>\n",
       "      <td>0.145015</td>\n",
       "      <td>0.225726</td>\n",
       "    </tr>\n",
       "    <tr>\n",
       "      <th>heart_disease</th>\n",
       "      <td>0.146019</td>\n",
       "      <td>0.269509</td>\n",
       "      <td>0.082912</td>\n",
       "      <td>1.000000</td>\n",
       "      <td>0.089257</td>\n",
       "      <td>-0.041128</td>\n",
       "      <td>0.021313</td>\n",
       "      <td>0.277740</td>\n",
       "      <td>0.049056</td>\n",
       "      <td>0.092822</td>\n",
       "      <td>0.229727</td>\n",
       "    </tr>\n",
       "    <tr>\n",
       "      <th>ever_married</th>\n",
       "      <td>0.032816</td>\n",
       "      <td>0.558420</td>\n",
       "      <td>0.089516</td>\n",
       "      <td>0.089257</td>\n",
       "      <td>1.000000</td>\n",
       "      <td>-0.228511</td>\n",
       "      <td>-0.043454</td>\n",
       "      <td>0.200375</td>\n",
       "      <td>0.264211</td>\n",
       "      <td>0.188681</td>\n",
       "      <td>0.270757</td>\n",
       "    </tr>\n",
       "    <tr>\n",
       "      <th>work_type</th>\n",
       "      <td>0.041384</td>\n",
       "      <td>-0.246327</td>\n",
       "      <td>0.006859</td>\n",
       "      <td>-0.041128</td>\n",
       "      <td>-0.228511</td>\n",
       "      <td>1.000000</td>\n",
       "      <td>-0.019124</td>\n",
       "      <td>-0.084945</td>\n",
       "      <td>-0.193996</td>\n",
       "      <td>-0.172346</td>\n",
       "      <td>-0.079824</td>\n",
       "    </tr>\n",
       "    <tr>\n",
       "      <th>Residence_type</th>\n",
       "      <td>-0.009780</td>\n",
       "      <td>0.018469</td>\n",
       "      <td>-0.030845</td>\n",
       "      <td>0.021313</td>\n",
       "      <td>-0.043454</td>\n",
       "      <td>-0.019124</td>\n",
       "      <td>1.000000</td>\n",
       "      <td>0.019422</td>\n",
       "      <td>0.023471</td>\n",
       "      <td>-0.008611</td>\n",
       "      <td>0.039758</td>\n",
       "    </tr>\n",
       "    <tr>\n",
       "      <th>avg_glucose_level</th>\n",
       "      <td>0.115748</td>\n",
       "      <td>0.262296</td>\n",
       "      <td>0.152014</td>\n",
       "      <td>0.277740</td>\n",
       "      <td>0.200375</td>\n",
       "      <td>-0.084945</td>\n",
       "      <td>0.019422</td>\n",
       "      <td>1.000000</td>\n",
       "      <td>0.244308</td>\n",
       "      <td>0.076336</td>\n",
       "      <td>0.247464</td>\n",
       "    </tr>\n",
       "    <tr>\n",
       "      <th>bmi</th>\n",
       "      <td>0.005581</td>\n",
       "      <td>0.188686</td>\n",
       "      <td>0.109439</td>\n",
       "      <td>0.049056</td>\n",
       "      <td>0.264211</td>\n",
       "      <td>-0.193996</td>\n",
       "      <td>0.023471</td>\n",
       "      <td>0.244308</td>\n",
       "      <td>1.000000</td>\n",
       "      <td>0.158526</td>\n",
       "      <td>0.104618</td>\n",
       "    </tr>\n",
       "    <tr>\n",
       "      <th>smoking_status</th>\n",
       "      <td>-0.043246</td>\n",
       "      <td>0.174988</td>\n",
       "      <td>0.145015</td>\n",
       "      <td>0.092822</td>\n",
       "      <td>0.188681</td>\n",
       "      <td>-0.172346</td>\n",
       "      <td>-0.008611</td>\n",
       "      <td>0.076336</td>\n",
       "      <td>0.158526</td>\n",
       "      <td>1.000000</td>\n",
       "      <td>0.073309</td>\n",
       "    </tr>\n",
       "    <tr>\n",
       "      <th>stroke</th>\n",
       "      <td>0.023917</td>\n",
       "      <td>0.580515</td>\n",
       "      <td>0.225726</td>\n",
       "      <td>0.229727</td>\n",
       "      <td>0.270757</td>\n",
       "      <td>-0.079824</td>\n",
       "      <td>0.039758</td>\n",
       "      <td>0.247464</td>\n",
       "      <td>0.104618</td>\n",
       "      <td>0.073309</td>\n",
       "      <td>1.000000</td>\n",
       "    </tr>\n",
       "  </tbody>\n",
       "</table>\n",
       "</div>"
      ],
      "text/plain": [
       "                     gender       age  hypertension  heart_disease  \\\n",
       "gender             1.000000  0.013869      0.004150       0.146019   \n",
       "age                0.013869  1.000000      0.266853       0.269509   \n",
       "hypertension       0.004150  0.266853      1.000000       0.082912   \n",
       "heart_disease      0.146019  0.269509      0.082912       1.000000   \n",
       "ever_married       0.032816  0.558420      0.089516       0.089257   \n",
       "work_type          0.041384 -0.246327      0.006859      -0.041128   \n",
       "Residence_type    -0.009780  0.018469     -0.030845       0.021313   \n",
       "avg_glucose_level  0.115748  0.262296      0.152014       0.277740   \n",
       "bmi                0.005581  0.188686      0.109439       0.049056   \n",
       "smoking_status    -0.043246  0.174988      0.145015       0.092822   \n",
       "stroke             0.023917  0.580515      0.225726       0.229727   \n",
       "\n",
       "                   ever_married  work_type  Residence_type  avg_glucose_level  \\\n",
       "gender                 0.032816   0.041384       -0.009780           0.115748   \n",
       "age                    0.558420  -0.246327        0.018469           0.262296   \n",
       "hypertension           0.089516   0.006859       -0.030845           0.152014   \n",
       "heart_disease          0.089257  -0.041128        0.021313           0.277740   \n",
       "ever_married           1.000000  -0.228511       -0.043454           0.200375   \n",
       "work_type             -0.228511   1.000000       -0.019124          -0.084945   \n",
       "Residence_type        -0.043454  -0.019124        1.000000           0.019422   \n",
       "avg_glucose_level      0.200375  -0.084945        0.019422           1.000000   \n",
       "bmi                    0.264211  -0.193996        0.023471           0.244308   \n",
       "smoking_status         0.188681  -0.172346       -0.008611           0.076336   \n",
       "stroke                 0.270757  -0.079824        0.039758           0.247464   \n",
       "\n",
       "                        bmi  smoking_status    stroke  \n",
       "gender             0.005581       -0.043246  0.023917  \n",
       "age                0.188686        0.174988  0.580515  \n",
       "hypertension       0.109439        0.145015  0.225726  \n",
       "heart_disease      0.049056        0.092822  0.229727  \n",
       "ever_married       0.264211        0.188681  0.270757  \n",
       "work_type         -0.193996       -0.172346 -0.079824  \n",
       "Residence_type     0.023471       -0.008611  0.039758  \n",
       "avg_glucose_level  0.244308        0.076336  0.247464  \n",
       "bmi                1.000000        0.158526  0.104618  \n",
       "smoking_status     0.158526        1.000000  0.073309  \n",
       "stroke             0.104618        0.073309  1.000000  "
      ]
     },
     "execution_count": 159,
     "metadata": {},
     "output_type": "execute_result"
    }
   ],
   "source": [
    "x=class1_0.corr() # To find correlation matrix\n",
    "x"
   ]
  },
  {
   "cell_type": "code",
   "execution_count": 273,
   "id": "eae14608",
   "metadata": {},
   "outputs": [
    {
     "data": {
      "image/png": "[encoded data removed]",
      "text/plain": [
       "<Figure size 900x500 with 2 Axes>"
      ]
     },
     "metadata": {},
     "output_type": "display_data"
    }
   ],
   "source": [
    "plt.figure(figsize=(9,5))\n",
    "plt.title(\"Heatmap of Correlation\")\n",
    "heatmap=sns.heatmap(x,linewidth=1,annot=True,cmap=\"coolwarm\")\n",
    "plt.show()"
   ]
  },
  {
   "cell_type": "markdown",
   "id": "9d6b8bb8",
   "metadata": {},
   "source": [
    "# EDA"
   ]
  },
  {
   "cell_type": "code",
   "execution_count": 161,
   "id": "2c412b21",
   "metadata": {},
   "outputs": [
    {
     "data": {
      "text/plain": [
       "<AxesSubplot:xlabel='gender', ylabel='count'>"
      ]
     },
     "execution_count": 161,
     "metadata": {},
     "output_type": "execute_result"
    },
    {
     "data": {
      "image/png": "[encoded data removed]",
      "text/plain": [
       "<Figure size 640x480 with 1 Axes>"
      ]
     },
     "metadata": {},
     "output_type": "display_data"
    }
   ],
   "source": [
    "sns.countplot(\"gender\",data=class1_0)"
   ]
  },
  {
   "cell_type": "code",
   "execution_count": 162,
   "id": "354bacdc",
   "metadata": {},
   "outputs": [],
   "source": [
    "y1=pd.crosstab(class1_0[\"hypertension\"],class1_0[\"stroke\"])"
   ]
  },
  {
   "cell_type": "code",
   "execution_count": 163,
   "id": "9448ea24",
   "metadata": {},
   "outputs": [
    {
     "data": {
      "text/plain": [
       "<AxesSubplot:xlabel='hypertension'>"
      ]
     },
     "execution_count": 163,
     "metadata": {},
     "output_type": "execute_result"
    },
    {
     "data": {
      "image/png": "[encoded data removed]",
      "text/plain": [
       "<Figure size 640x480 with 1 Axes>"
      ]
     },
     "metadata": {},
     "output_type": "display_data"
    }
   ],
   "source": [
    "y1.plot(kind=\"bar\",stacked=True)"
   ]
  },
  {
   "cell_type": "code",
   "execution_count": 164,
   "id": "13f87e02",
   "metadata": {},
   "outputs": [
    {
     "name": "stdout",
     "output_type": "stream",
     "text": [
      "2    5689\n",
      "3    2027\n",
      "0    1262\n",
      "4     722\n",
      "1      22\n",
      "Name: work_type, dtype: int64\n"
     ]
    },
    {
     "data": {
      "text/plain": [
       "<AxesSubplot:xlabel='work_type', ylabel='count'>"
      ]
     },
     "execution_count": 164,
     "metadata": {},
     "output_type": "execute_result"
    },
    {
     "data": {
      "image/png": "[encoded data removed]",
      "text/plain": [
       "<Figure size 640x480 with 1 Axes>"
      ]
     },
     "metadata": {},
     "output_type": "display_data"
    }
   ],
   "source": [
    "print(class1_0['work_type'].value_counts())\n",
    "sns.countplot(class1_0['work_type'], hue = class1_0['stroke'])"
   ]
  },
  {
   "cell_type": "code",
   "execution_count": 165,
   "id": "584de0a3",
   "metadata": {},
   "outputs": [
    {
     "data": {
      "image/png": "[encoded data removed]",
      "text/plain": [
       "<Figure size 1800x700 with 1 Axes>"
      ]
     },
     "metadata": {},
     "output_type": "display_data"
    }
   ],
   "source": [
    "plt.figure(figsize=(18,7))\n",
    "sns.countplot(class1_0[\"work_type\"])\n",
    "plt.show()"
   ]
  },
  {
   "cell_type": "code",
   "execution_count": null,
   "id": "3cce7f55",
   "metadata": {},
   "outputs": [],
   "source": []
  },
  {
   "cell_type": "code",
   "execution_count": null,
   "id": "7acad85a",
   "metadata": {},
   "outputs": [],
   "source": []
  },
  {
   "cell_type": "code",
   "execution_count": null,
   "id": "92500485",
   "metadata": {},
   "outputs": [],
   "source": []
  },
  {
   "cell_type": "markdown",
   "id": "dc7bf2fa",
   "metadata": {},
   "source": [
    "# RFE=Recursive FS"
   ]
  },
  {
   "cell_type": "code",
   "execution_count": 166,
   "id": "030d8061",
   "metadata": {},
   "outputs": [],
   "source": [
    "from sklearn.feature_selection import RFE\n",
    "from sklearn.tree import DecisionTreeClassifier\n",
    "dTree = DecisionTreeClassifier()"
   ]
  },
  {
   "cell_type": "code",
   "execution_count": 167,
   "id": "df40d316",
   "metadata": {},
   "outputs": [],
   "source": [
    "rfe=RFE(dTree)"
   ]
  },
  {
   "cell_type": "code",
   "execution_count": 168,
   "id": "0beab028",
   "metadata": {},
   "outputs": [
    {
     "data": {
      "text/plain": [
       "RFE(estimator=DecisionTreeClassifier())"
      ]
     },
     "execution_count": 168,
     "metadata": {},
     "output_type": "execute_result"
    }
   ],
   "source": [
    "rfe.fit(class1_0.iloc[:,0:10],class1_0.iloc[:,-1])\n",
    "#rfe.fit(o_x_train,o_y_train)"
   ]
  },
  {
   "cell_type": "code",
   "execution_count": 169,
   "id": "30fd36db",
   "metadata": {},
   "outputs": [
    {
     "data": {
      "text/plain": [
       "array([False,  True, False, False, False,  True, False,  True,  True,\n",
       "        True])"
      ]
     },
     "execution_count": 169,
     "metadata": {},
     "output_type": "execute_result"
    }
   ],
   "source": [
    "rfe.support_"
   ]
  },
  {
   "cell_type": "code",
   "execution_count": 170,
   "id": "b46d1700",
   "metadata": {},
   "outputs": [
    {
     "data": {
      "text/html": [
       "<div>\n",
       "<style scoped>\n",
       "    .dataframe tbody tr th:only-of-type {\n",
       "        vertical-align: middle;\n",
       "    }\n",
       "\n",
       "    .dataframe tbody tr th {\n",
       "        vertical-align: top;\n",
       "    }\n",
       "\n",
       "    .dataframe thead th {\n",
       "        text-align: right;\n",
       "    }\n",
       "</style>\n",
       "<table border=\"1\" class=\"dataframe\">\n",
       "  <thead>\n",
       "    <tr style=\"text-align: right;\">\n",
       "      <th></th>\n",
       "      <th>Score</th>\n",
       "      <th>columns</th>\n",
       "    </tr>\n",
       "  </thead>\n",
       "  <tbody>\n",
       "    <tr>\n",
       "      <th>0</th>\n",
       "      <td>False</td>\n",
       "      <td>gender</td>\n",
       "    </tr>\n",
       "    <tr>\n",
       "      <th>1</th>\n",
       "      <td>True</td>\n",
       "      <td>age</td>\n",
       "    </tr>\n",
       "    <tr>\n",
       "      <th>2</th>\n",
       "      <td>False</td>\n",
       "      <td>hypertension</td>\n",
       "    </tr>\n",
       "    <tr>\n",
       "      <th>3</th>\n",
       "      <td>False</td>\n",
       "      <td>heart_disease</td>\n",
       "    </tr>\n",
       "    <tr>\n",
       "      <th>4</th>\n",
       "      <td>False</td>\n",
       "      <td>ever_married</td>\n",
       "    </tr>\n",
       "    <tr>\n",
       "      <th>5</th>\n",
       "      <td>True</td>\n",
       "      <td>work_type</td>\n",
       "    </tr>\n",
       "    <tr>\n",
       "      <th>6</th>\n",
       "      <td>False</td>\n",
       "      <td>Residence_type</td>\n",
       "    </tr>\n",
       "    <tr>\n",
       "      <th>7</th>\n",
       "      <td>True</td>\n",
       "      <td>avg_glucose_level</td>\n",
       "    </tr>\n",
       "    <tr>\n",
       "      <th>8</th>\n",
       "      <td>True</td>\n",
       "      <td>bmi</td>\n",
       "    </tr>\n",
       "    <tr>\n",
       "      <th>9</th>\n",
       "      <td>True</td>\n",
       "      <td>smoking_status</td>\n",
       "    </tr>\n",
       "  </tbody>\n",
       "</table>\n",
       "</div>"
      ],
      "text/plain": [
       "   Score            columns\n",
       "0  False             gender\n",
       "1   True                age\n",
       "2  False       hypertension\n",
       "3  False      heart_disease\n",
       "4  False       ever_married\n",
       "5   True          work_type\n",
       "6  False     Residence_type\n",
       "7   True  avg_glucose_level\n",
       "8   True                bmi\n",
       "9   True     smoking_status"
      ]
     },
     "execution_count": 170,
     "metadata": {},
     "output_type": "execute_result"
    }
   ],
   "source": [
    "df3=pd.DataFrame({\"Score\":list(rfe.support_),\"columns\":list(class1_0.iloc[:,0:10])})\n",
    "df3"
   ]
  },
  {
   "cell_type": "code",
   "execution_count": 171,
   "id": "8fa824de",
   "metadata": {},
   "outputs": [],
   "source": [
    "df=class1_0.drop([\"gender\",\"hypertension\",\"heart_disease\",\"ever_married\",\"Residence_type\"],axis=1)"
   ]
  },
  {
   "cell_type": "code",
   "execution_count": 172,
   "id": "1bc8671e",
   "metadata": {},
   "outputs": [
    {
     "data": {
      "text/html": [
       "<div>\n",
       "<style scoped>\n",
       "    .dataframe tbody tr th:only-of-type {\n",
       "        vertical-align: middle;\n",
       "    }\n",
       "\n",
       "    .dataframe tbody tr th {\n",
       "        vertical-align: top;\n",
       "    }\n",
       "\n",
       "    .dataframe thead th {\n",
       "        text-align: right;\n",
       "    }\n",
       "</style>\n",
       "<table border=\"1\" class=\"dataframe\">\n",
       "  <thead>\n",
       "    <tr style=\"text-align: right;\">\n",
       "      <th></th>\n",
       "      <th>age</th>\n",
       "      <th>work_type</th>\n",
       "      <th>avg_glucose_level</th>\n",
       "      <th>bmi</th>\n",
       "      <th>smoking_status</th>\n",
       "      <th>stroke</th>\n",
       "    </tr>\n",
       "  </thead>\n",
       "  <tbody>\n",
       "    <tr>\n",
       "      <th>241</th>\n",
       "      <td>57.0</td>\n",
       "      <td>2</td>\n",
       "      <td>197.28</td>\n",
       "      <td>34.500000</td>\n",
       "      <td>1</td>\n",
       "      <td>1</td>\n",
       "    </tr>\n",
       "    <tr>\n",
       "      <th>65</th>\n",
       "      <td>78.0</td>\n",
       "      <td>2</td>\n",
       "      <td>113.01</td>\n",
       "      <td>24.000000</td>\n",
       "      <td>2</td>\n",
       "      <td>1</td>\n",
       "    </tr>\n",
       "    <tr>\n",
       "      <th>80</th>\n",
       "      <td>59.0</td>\n",
       "      <td>2</td>\n",
       "      <td>96.16</td>\n",
       "      <td>44.100000</td>\n",
       "      <td>0</td>\n",
       "      <td>1</td>\n",
       "    </tr>\n",
       "    <tr>\n",
       "      <th>38</th>\n",
       "      <td>58.0</td>\n",
       "      <td>2</td>\n",
       "      <td>92.62</td>\n",
       "      <td>32.000000</td>\n",
       "      <td>0</td>\n",
       "      <td>1</td>\n",
       "    </tr>\n",
       "    <tr>\n",
       "      <th>110</th>\n",
       "      <td>79.0</td>\n",
       "      <td>2</td>\n",
       "      <td>129.98</td>\n",
       "      <td>22.600000</td>\n",
       "      <td>1</td>\n",
       "      <td>1</td>\n",
       "    </tr>\n",
       "    <tr>\n",
       "      <th>...</th>\n",
       "      <td>...</td>\n",
       "      <td>...</td>\n",
       "      <td>...</td>\n",
       "      <td>...</td>\n",
       "      <td>...</td>\n",
       "      <td>...</td>\n",
       "    </tr>\n",
       "    <tr>\n",
       "      <th>5105</th>\n",
       "      <td>80.0</td>\n",
       "      <td>2</td>\n",
       "      <td>83.75</td>\n",
       "      <td>28.893237</td>\n",
       "      <td>2</td>\n",
       "      <td>0</td>\n",
       "    </tr>\n",
       "    <tr>\n",
       "      <th>5106</th>\n",
       "      <td>81.0</td>\n",
       "      <td>3</td>\n",
       "      <td>125.20</td>\n",
       "      <td>40.000000</td>\n",
       "      <td>2</td>\n",
       "      <td>0</td>\n",
       "    </tr>\n",
       "    <tr>\n",
       "      <th>5107</th>\n",
       "      <td>35.0</td>\n",
       "      <td>3</td>\n",
       "      <td>82.99</td>\n",
       "      <td>30.600000</td>\n",
       "      <td>2</td>\n",
       "      <td>0</td>\n",
       "    </tr>\n",
       "    <tr>\n",
       "      <th>5108</th>\n",
       "      <td>51.0</td>\n",
       "      <td>2</td>\n",
       "      <td>166.29</td>\n",
       "      <td>25.600000</td>\n",
       "      <td>1</td>\n",
       "      <td>0</td>\n",
       "    </tr>\n",
       "    <tr>\n",
       "      <th>5109</th>\n",
       "      <td>44.0</td>\n",
       "      <td>0</td>\n",
       "      <td>85.28</td>\n",
       "      <td>26.200000</td>\n",
       "      <td>0</td>\n",
       "      <td>0</td>\n",
       "    </tr>\n",
       "  </tbody>\n",
       "</table>\n",
       "<p>9722 rows × 6 columns</p>\n",
       "</div>"
      ],
      "text/plain": [
       "       age  work_type  avg_glucose_level        bmi  smoking_status  stroke\n",
       "241   57.0          2             197.28  34.500000               1       1\n",
       "65    78.0          2             113.01  24.000000               2       1\n",
       "80    59.0          2              96.16  44.100000               0       1\n",
       "38    58.0          2              92.62  32.000000               0       1\n",
       "110   79.0          2             129.98  22.600000               1       1\n",
       "...    ...        ...                ...        ...             ...     ...\n",
       "5105  80.0          2              83.75  28.893237               2       0\n",
       "5106  81.0          3             125.20  40.000000               2       0\n",
       "5107  35.0          3              82.99  30.600000               2       0\n",
       "5108  51.0          2             166.29  25.600000               1       0\n",
       "5109  44.0          0              85.28  26.200000               0       0\n",
       "\n",
       "[9722 rows x 6 columns]"
      ]
     },
     "execution_count": 172,
     "metadata": {},
     "output_type": "execute_result"
    }
   ],
   "source": [
    "df"
   ]
  },
  {
   "cell_type": "code",
   "execution_count": 173,
   "id": "a7ce0723",
   "metadata": {},
   "outputs": [],
   "source": [
    "from sklearn.model_selection import train_test_split"
   ]
  },
  {
   "cell_type": "code",
   "execution_count": 174,
   "id": "b2bea87d",
   "metadata": {},
   "outputs": [],
   "source": [
    "t_x=df.iloc[:,0:5]\n",
    "t_y=df.iloc[:,-1]"
   ]
  },
  {
   "cell_type": "code",
   "execution_count": 175,
   "id": "058174c3",
   "metadata": {},
   "outputs": [
    {
     "data": {
      "text/html": [
       "<div>\n",
       "<style scoped>\n",
       "    .dataframe tbody tr th:only-of-type {\n",
       "        vertical-align: middle;\n",
       "    }\n",
       "\n",
       "    .dataframe tbody tr th {\n",
       "        vertical-align: top;\n",
       "    }\n",
       "\n",
       "    .dataframe thead th {\n",
       "        text-align: right;\n",
       "    }\n",
       "</style>\n",
       "<table border=\"1\" class=\"dataframe\">\n",
       "  <thead>\n",
       "    <tr style=\"text-align: right;\">\n",
       "      <th></th>\n",
       "      <th>age</th>\n",
       "      <th>work_type</th>\n",
       "      <th>avg_glucose_level</th>\n",
       "      <th>bmi</th>\n",
       "      <th>smoking_status</th>\n",
       "    </tr>\n",
       "  </thead>\n",
       "  <tbody>\n",
       "    <tr>\n",
       "      <th>241</th>\n",
       "      <td>57.0</td>\n",
       "      <td>2</td>\n",
       "      <td>197.28</td>\n",
       "      <td>34.5</td>\n",
       "      <td>1</td>\n",
       "    </tr>\n",
       "    <tr>\n",
       "      <th>65</th>\n",
       "      <td>78.0</td>\n",
       "      <td>2</td>\n",
       "      <td>113.01</td>\n",
       "      <td>24.0</td>\n",
       "      <td>2</td>\n",
       "    </tr>\n",
       "    <tr>\n",
       "      <th>80</th>\n",
       "      <td>59.0</td>\n",
       "      <td>2</td>\n",
       "      <td>96.16</td>\n",
       "      <td>44.1</td>\n",
       "      <td>0</td>\n",
       "    </tr>\n",
       "    <tr>\n",
       "      <th>38</th>\n",
       "      <td>58.0</td>\n",
       "      <td>2</td>\n",
       "      <td>92.62</td>\n",
       "      <td>32.0</td>\n",
       "      <td>0</td>\n",
       "    </tr>\n",
       "    <tr>\n",
       "      <th>110</th>\n",
       "      <td>79.0</td>\n",
       "      <td>2</td>\n",
       "      <td>129.98</td>\n",
       "      <td>22.6</td>\n",
       "      <td>1</td>\n",
       "    </tr>\n",
       "  </tbody>\n",
       "</table>\n",
       "</div>"
      ],
      "text/plain": [
       "      age  work_type  avg_glucose_level   bmi  smoking_status\n",
       "241  57.0          2             197.28  34.5               1\n",
       "65   78.0          2             113.01  24.0               2\n",
       "80   59.0          2              96.16  44.1               0\n",
       "38   58.0          2              92.62  32.0               0\n",
       "110  79.0          2             129.98  22.6               1"
      ]
     },
     "execution_count": 175,
     "metadata": {},
     "output_type": "execute_result"
    }
   ],
   "source": [
    "t_x.head(5)"
   ]
  },
  {
   "cell_type": "code",
   "execution_count": 176,
   "id": "9347edd4",
   "metadata": {},
   "outputs": [
    {
     "data": {
      "text/plain": [
       "241    1\n",
       "65     1\n",
       "80     1\n",
       "38     1\n",
       "110    1\n",
       "Name: stroke, dtype: int64"
      ]
     },
     "execution_count": 176,
     "metadata": {},
     "output_type": "execute_result"
    }
   ],
   "source": [
    "t_y.head(5)"
   ]
  },
  {
   "cell_type": "code",
   "execution_count": 177,
   "id": "b934e03b",
   "metadata": {},
   "outputs": [],
   "source": [
    "x5_tr,x5_te,y5_tr,y5_te=train_test_split(t_x,t_y,test_size=0.2,random_state=100)"
   ]
  },
  {
   "cell_type": "code",
   "execution_count": 178,
   "id": "3a9579bf",
   "metadata": {},
   "outputs": [
    {
     "data": {
      "text/plain": [
       "((7777, 5), (1945, 5), (7777,), (1945,))"
      ]
     },
     "execution_count": 178,
     "metadata": {},
     "output_type": "execute_result"
    }
   ],
   "source": [
    "x5_tr.shape,x5_te.shape,y5_tr.shape,y5_te.shape"
   ]
  },
  {
   "cell_type": "markdown",
   "id": "36a318e7",
   "metadata": {},
   "source": [
    "# Logistic Regression"
   ]
  },
  {
   "cell_type": "code",
   "execution_count": 179,
   "id": "8d9c2316",
   "metadata": {},
   "outputs": [],
   "source": [
    "from sklearn.linear_model import LogisticRegression\n",
    "lg=LogisticRegression()"
   ]
  },
  {
   "cell_type": "code",
   "execution_count": 180,
   "id": "89efc5c3",
   "metadata": {},
   "outputs": [
    {
     "data": {
      "text/plain": [
       "LogisticRegression()"
      ]
     },
     "execution_count": 180,
     "metadata": {},
     "output_type": "execute_result"
    }
   ],
   "source": [
    "lg.fit(x5_tr,y5_tr)"
   ]
  },
  {
   "cell_type": "code",
   "execution_count": 181,
   "id": "b2ef5c6a",
   "metadata": {},
   "outputs": [],
   "source": [
    "lg_p2=lg.predict(x5_te)"
   ]
  },
  {
   "cell_type": "code",
   "execution_count": 182,
   "id": "d80e2cea",
   "metadata": {},
   "outputs": [],
   "source": [
    "from sklearn.metrics import confusion_matrix\n",
    "from sklearn.metrics import classification_report"
   ]
  },
  {
   "cell_type": "code",
   "execution_count": 183,
   "id": "491e1fb7",
   "metadata": {},
   "outputs": [
    {
     "data": {
      "text/plain": [
       "array([[690, 167],\n",
       "       [274, 814]], dtype=int64)"
      ]
     },
     "execution_count": 183,
     "metadata": {},
     "output_type": "execute_result"
    }
   ],
   "source": [
    "lg_cf1=confusion_matrix(lg_p2,y5_te)\n",
    "lg_cf1"
   ]
  },
  {
   "cell_type": "code",
   "execution_count": 184,
   "id": "d3055fa8",
   "metadata": {},
   "outputs": [
    {
     "data": {
      "text/plain": [
       "77.32647814910025"
      ]
     },
     "execution_count": 184,
     "metadata": {},
     "output_type": "execute_result"
    }
   ],
   "source": [
    "acc=lg_cf1.diagonal().sum()/lg_cf1.sum()*100\n",
    "acc"
   ]
  },
  {
   "cell_type": "code",
   "execution_count": 185,
   "id": "4e1878f2",
   "metadata": {},
   "outputs": [
    {
     "name": "stdout",
     "output_type": "stream",
     "text": [
      "              precision    recall  f1-score   support\n",
      "\n",
      "           0       0.72      0.81      0.76       857\n",
      "           1       0.83      0.75      0.79      1088\n",
      "\n",
      "    accuracy                           0.77      1945\n",
      "   macro avg       0.77      0.78      0.77      1945\n",
      "weighted avg       0.78      0.77      0.77      1945\n",
      "\n"
     ]
    }
   ],
   "source": [
    "print(classification_report(lg_p2,y5_te))"
   ]
  },
  {
   "cell_type": "code",
   "execution_count": 186,
   "id": "18622f30",
   "metadata": {},
   "outputs": [],
   "source": [
    "lg_ac2=accuracy_score(lg_p2,y5_te)"
   ]
  },
  {
   "cell_type": "code",
   "execution_count": 187,
   "id": "a606ebf1",
   "metadata": {},
   "outputs": [],
   "source": [
    "lg_pre=precision_score(lg_p2,y5_te)"
   ]
  },
  {
   "cell_type": "code",
   "execution_count": 188,
   "id": "cb1f3dfa",
   "metadata": {},
   "outputs": [],
   "source": [
    "lg_rec=recall_score(lg_p2,y5_te)"
   ]
  },
  {
   "cell_type": "code",
   "execution_count": 189,
   "id": "d5b4d8fa",
   "metadata": {},
   "outputs": [],
   "source": [
    "lg_f=f1_score(lg_p2,y5_te)"
   ]
  },
  {
   "cell_type": "markdown",
   "id": "94db08f8",
   "metadata": {},
   "source": [
    "# Decision Tree"
   ]
  },
  {
   "cell_type": "code",
   "execution_count": 190,
   "id": "03b1ceba",
   "metadata": {},
   "outputs": [],
   "source": [
    "from sklearn.tree import DecisionTreeClassifier\n",
    "dt=DecisionTreeClassifier()"
   ]
  },
  {
   "cell_type": "code",
   "execution_count": 191,
   "id": "4539b9bd",
   "metadata": {},
   "outputs": [
    {
     "data": {
      "text/plain": [
       "DecisionTreeClassifier()"
      ]
     },
     "execution_count": 191,
     "metadata": {},
     "output_type": "execute_result"
    }
   ],
   "source": [
    "dt.fit(x5_tr,y5_tr)"
   ]
  },
  {
   "cell_type": "code",
   "execution_count": 192,
   "id": "b30826b5",
   "metadata": {},
   "outputs": [],
   "source": [
    "dt_p2=dt.predict(x5_te)"
   ]
  },
  {
   "cell_type": "code",
   "execution_count": 193,
   "id": "4dfb15e1",
   "metadata": {},
   "outputs": [
    {
     "data": {
      "text/plain": [
       "array([[909,   0],\n",
       "       [ 55, 981]], dtype=int64)"
      ]
     },
     "execution_count": 193,
     "metadata": {},
     "output_type": "execute_result"
    }
   ],
   "source": [
    "dt_cf1=confusion_matrix(dt_p2,y5_te)\n",
    "dt_cf1"
   ]
  },
  {
   "cell_type": "code",
   "execution_count": 194,
   "id": "0c990e04",
   "metadata": {},
   "outputs": [
    {
     "data": {
      "text/plain": [
       "97.17223650385604"
      ]
     },
     "execution_count": 194,
     "metadata": {},
     "output_type": "execute_result"
    }
   ],
   "source": [
    "dt_acc2=dt_cf1.diagonal().sum()/dt_cf1.sum()*100\n",
    "dt_acc2"
   ]
  },
  {
   "cell_type": "code",
   "execution_count": 195,
   "id": "f98b1ef1",
   "metadata": {},
   "outputs": [
    {
     "name": "stdout",
     "output_type": "stream",
     "text": [
      "              precision    recall  f1-score   support\n",
      "\n",
      "           0       0.94      1.00      0.97       909\n",
      "           1       1.00      0.95      0.97      1036\n",
      "\n",
      "    accuracy                           0.97      1945\n",
      "   macro avg       0.97      0.97      0.97      1945\n",
      "weighted avg       0.97      0.97      0.97      1945\n",
      "\n"
     ]
    }
   ],
   "source": [
    "print(classification_report(dt_p2,y5_te))"
   ]
  },
  {
   "cell_type": "code",
   "execution_count": 196,
   "id": "0077a67a",
   "metadata": {},
   "outputs": [],
   "source": [
    "dt_ac2=accuracy_score(dt_p2,y5_te)"
   ]
  },
  {
   "cell_type": "code",
   "execution_count": 197,
   "id": "ffcb6875",
   "metadata": {},
   "outputs": [],
   "source": [
    "dt_pre=precision_score(dt_p2,y5_te)"
   ]
  },
  {
   "cell_type": "code",
   "execution_count": 198,
   "id": "c5eba362",
   "metadata": {},
   "outputs": [],
   "source": [
    "dt_rec=recall_score(dt_p2,y5_te)"
   ]
  },
  {
   "cell_type": "code",
   "execution_count": 199,
   "id": "a77ec61e",
   "metadata": {},
   "outputs": [],
   "source": [
    "dt_f=f1_score(dt_p2,y5_te)"
   ]
  },
  {
   "cell_type": "markdown",
   "id": "2d20f2df",
   "metadata": {},
   "source": [
    "# KNN"
   ]
  },
  {
   "cell_type": "code",
   "execution_count": 200,
   "id": "f3b58e61",
   "metadata": {},
   "outputs": [],
   "source": [
    "from sklearn.neighbors import KNeighborsClassifier\n",
    "knn= KNeighborsClassifier(n_neighbors=7)"
   ]
  },
  {
   "cell_type": "code",
   "execution_count": 201,
   "id": "775c375d",
   "metadata": {},
   "outputs": [
    {
     "data": {
      "text/plain": [
       "KNeighborsClassifier(n_neighbors=7)"
      ]
     },
     "execution_count": 201,
     "metadata": {},
     "output_type": "execute_result"
    }
   ],
   "source": [
    "knn.fit(x5_tr,y5_tr)"
   ]
  },
  {
   "cell_type": "code",
   "execution_count": 202,
   "id": "18d17a53",
   "metadata": {},
   "outputs": [],
   "source": [
    "k_p2=knn.predict(x5_te)"
   ]
  },
  {
   "cell_type": "code",
   "execution_count": 203,
   "id": "c0314e83",
   "metadata": {},
   "outputs": [
    {
     "data": {
      "text/plain": [
       "array([[782,   0],\n",
       "       [182, 981]], dtype=int64)"
      ]
     },
     "execution_count": 203,
     "metadata": {},
     "output_type": "execute_result"
    }
   ],
   "source": [
    "k_cf1=confusion_matrix(k_p2,y5_te)\n",
    "k_cf1"
   ]
  },
  {
   "cell_type": "code",
   "execution_count": 204,
   "id": "1f236689",
   "metadata": {},
   "outputs": [
    {
     "data": {
      "text/plain": [
       "90.64267352185091"
      ]
     },
     "execution_count": 204,
     "metadata": {},
     "output_type": "execute_result"
    }
   ],
   "source": [
    "k_acc2=k_cf1.diagonal().sum()/k_cf1.sum()*100\n",
    "k_acc2"
   ]
  },
  {
   "cell_type": "code",
   "execution_count": 205,
   "id": "f2c4c640",
   "metadata": {},
   "outputs": [
    {
     "name": "stdout",
     "output_type": "stream",
     "text": [
      "              precision    recall  f1-score   support\n",
      "\n",
      "           0       0.81      1.00      0.90       782\n",
      "           1       1.00      0.84      0.92      1163\n",
      "\n",
      "    accuracy                           0.91      1945\n",
      "   macro avg       0.91      0.92      0.91      1945\n",
      "weighted avg       0.92      0.91      0.91      1945\n",
      "\n"
     ]
    }
   ],
   "source": [
    "print(classification_report(k_p2,y5_te))"
   ]
  },
  {
   "cell_type": "code",
   "execution_count": 206,
   "id": "e0eddbdb",
   "metadata": {},
   "outputs": [],
   "source": [
    "K_ac2=accuracy_score(k_p2,y5_te)"
   ]
  },
  {
   "cell_type": "code",
   "execution_count": 207,
   "id": "82be008c",
   "metadata": {},
   "outputs": [],
   "source": [
    "K_pre=precision_score(k_p2,y5_te)"
   ]
  },
  {
   "cell_type": "code",
   "execution_count": 208,
   "id": "5db0d78d",
   "metadata": {},
   "outputs": [],
   "source": [
    "K_rec=recall_score(k_p2,y5_te)"
   ]
  },
  {
   "cell_type": "code",
   "execution_count": 209,
   "id": "8547eac3",
   "metadata": {},
   "outputs": [],
   "source": [
    "K_f=f1_score(k_p2,y5_te)"
   ]
  },
  {
   "cell_type": "code",
   "execution_count": 210,
   "id": "2766d496",
   "metadata": {},
   "outputs": [],
   "source": [
    "lst=list()"
   ]
  },
  {
   "cell_type": "code",
   "execution_count": 211,
   "id": "d1780300",
   "metadata": {},
   "outputs": [],
   "source": [
    "for i in range (1,30):\n",
    "    knn=KNeighborsClassifier(n_neighbors=i)\n",
    "    knn.fit(x5_tr,y5_tr)\n",
    "    kn_pred=knn.predict(x5_te)\n",
    "    cf_k=confusion_matrix(kn_pred,y5_te)\n",
    "    acckn=cf_k.diagonal().sum()/cf_k.sum()*100\n",
    "    lst.append(acckn)"
   ]
  },
  {
   "cell_type": "code",
   "execution_count": 212,
   "id": "61a2039c",
   "metadata": {},
   "outputs": [
    {
     "data": {
      "image/png": "[encoded data removed]",
      "text/plain": [
       "<Figure size 640x480 with 1 Axes>"
      ]
     },
     "metadata": {},
     "output_type": "display_data"
    }
   ],
   "source": [
    "import matplotlib.pyplot as plt\n",
    "p=plt.plot(lst)"
   ]
  },
  {
   "cell_type": "markdown",
   "id": "955832b1",
   "metadata": {},
   "source": [
    "# Random forest"
   ]
  },
  {
   "cell_type": "code",
   "execution_count": 213,
   "id": "015ee8f1",
   "metadata": {},
   "outputs": [],
   "source": [
    "from sklearn.ensemble import RandomForestClassifier\n",
    "rf=RandomForestClassifier()"
   ]
  },
  {
   "cell_type": "code",
   "execution_count": 214,
   "id": "eea2f487",
   "metadata": {},
   "outputs": [
    {
     "data": {
      "text/plain": [
       "RandomForestClassifier()"
      ]
     },
     "execution_count": 214,
     "metadata": {},
     "output_type": "execute_result"
    }
   ],
   "source": [
    "rf.fit(x5_tr,y5_tr)"
   ]
  },
  {
   "cell_type": "code",
   "execution_count": 215,
   "id": "7059f40e",
   "metadata": {},
   "outputs": [
    {
     "data": {
      "text/plain": [
       "array([1, 0, 1, ..., 1, 1, 1], dtype=int64)"
      ]
     },
     "execution_count": 215,
     "metadata": {},
     "output_type": "execute_result"
    }
   ],
   "source": [
    "rf_p2=rf.predict(x5_te)\n",
    "rf_p2"
   ]
  },
  {
   "cell_type": "code",
   "execution_count": 216,
   "id": "477f6006",
   "metadata": {},
   "outputs": [
    {
     "data": {
      "text/plain": [
       "array([[941,   0],\n",
       "       [ 23, 981]], dtype=int64)"
      ]
     },
     "execution_count": 216,
     "metadata": {},
     "output_type": "execute_result"
    }
   ],
   "source": [
    "rf_cf1=confusion_matrix(rf_p2,y5_te)\n",
    "rf_cf1"
   ]
  },
  {
   "cell_type": "code",
   "execution_count": 217,
   "id": "2076c3de",
   "metadata": {},
   "outputs": [
    {
     "data": {
      "text/plain": [
       "98.81748071979435"
      ]
     },
     "execution_count": 217,
     "metadata": {},
     "output_type": "execute_result"
    }
   ],
   "source": [
    "rf_acc2=rf_cf1.diagonal().sum()/rf_cf1.sum()*100\n",
    "rf_acc2"
   ]
  },
  {
   "cell_type": "code",
   "execution_count": 218,
   "id": "ff98afb5",
   "metadata": {},
   "outputs": [
    {
     "name": "stdout",
     "output_type": "stream",
     "text": [
      "              precision    recall  f1-score   support\n",
      "\n",
      "           0       0.98      1.00      0.99       941\n",
      "           1       1.00      0.98      0.99      1004\n",
      "\n",
      "    accuracy                           0.99      1945\n",
      "   macro avg       0.99      0.99      0.99      1945\n",
      "weighted avg       0.99      0.99      0.99      1945\n",
      "\n"
     ]
    }
   ],
   "source": [
    "print(classification_report(rf_p2,y5_te))"
   ]
  },
  {
   "cell_type": "code",
   "execution_count": 219,
   "id": "e5c558c4",
   "metadata": {},
   "outputs": [],
   "source": [
    "rf_ac2=accuracy_score(rf_p2,y5_te)"
   ]
  },
  {
   "cell_type": "code",
   "execution_count": 220,
   "id": "5cfafb0f",
   "metadata": {},
   "outputs": [],
   "source": [
    "rf_pre=precision_score(rf_p2,y5_te)"
   ]
  },
  {
   "cell_type": "code",
   "execution_count": 221,
   "id": "830b37e9",
   "metadata": {},
   "outputs": [],
   "source": [
    "rf_rec=recall_score(rf_p2,y5_te)"
   ]
  },
  {
   "cell_type": "code",
   "execution_count": 222,
   "id": "9b87408e",
   "metadata": {},
   "outputs": [],
   "source": [
    "rf_f=f1_score(rf_p2,y5_te)"
   ]
  },
  {
   "cell_type": "markdown",
   "id": "4066433e",
   "metadata": {},
   "source": [
    "# ADA Boost"
   ]
  },
  {
   "cell_type": "code",
   "execution_count": 223,
   "id": "66c5c357",
   "metadata": {},
   "outputs": [],
   "source": [
    "from sklearn.ensemble import AdaBoostClassifier\n",
    "from sklearn.tree import DecisionTreeClassifier"
   ]
  },
  {
   "cell_type": "code",
   "execution_count": 224,
   "id": "53ab7f06",
   "metadata": {},
   "outputs": [],
   "source": [
    "adbo=AdaBoostClassifier(DecisionTreeClassifier(),n_estimators=5)"
   ]
  },
  {
   "cell_type": "code",
   "execution_count": 225,
   "id": "e884e8c0",
   "metadata": {},
   "outputs": [
    {
     "data": {
      "text/plain": [
       "AdaBoostClassifier(base_estimator=DecisionTreeClassifier(), n_estimators=5)"
      ]
     },
     "execution_count": 225,
     "metadata": {},
     "output_type": "execute_result"
    }
   ],
   "source": [
    "adbo.fit(x5_tr,y5_tr)"
   ]
  },
  {
   "cell_type": "code",
   "execution_count": 226,
   "id": "5536a7eb",
   "metadata": {},
   "outputs": [
    {
     "data": {
      "text/plain": [
       "array([1, 0, 0, ..., 1, 1, 1], dtype=int64)"
      ]
     },
     "execution_count": 226,
     "metadata": {},
     "output_type": "execute_result"
    }
   ],
   "source": [
    "ad_p2=adbo.predict(x5_te)\n",
    "ad_p2"
   ]
  },
  {
   "cell_type": "code",
   "execution_count": 227,
   "id": "d176e17d",
   "metadata": {},
   "outputs": [
    {
     "data": {
      "text/plain": [
       "array([[912,   0],\n",
       "       [ 52, 981]], dtype=int64)"
      ]
     },
     "execution_count": 227,
     "metadata": {},
     "output_type": "execute_result"
    }
   ],
   "source": [
    "ad_cf1=confusion_matrix(ad_p2,y5_te)\n",
    "ad_cf1"
   ]
  },
  {
   "cell_type": "code",
   "execution_count": 228,
   "id": "43a39772",
   "metadata": {},
   "outputs": [
    {
     "data": {
      "text/plain": [
       "97.32647814910025"
      ]
     },
     "execution_count": 228,
     "metadata": {},
     "output_type": "execute_result"
    }
   ],
   "source": [
    "ad_acc2=ad_cf1.diagonal().sum()/ad_cf1.sum()*100\n",
    "ad_acc2"
   ]
  },
  {
   "cell_type": "code",
   "execution_count": 229,
   "id": "ee274555",
   "metadata": {},
   "outputs": [
    {
     "name": "stdout",
     "output_type": "stream",
     "text": [
      "              precision    recall  f1-score   support\n",
      "\n",
      "           0       0.95      1.00      0.97       912\n",
      "           1       1.00      0.95      0.97      1033\n",
      "\n",
      "    accuracy                           0.97      1945\n",
      "   macro avg       0.97      0.97      0.97      1945\n",
      "weighted avg       0.97      0.97      0.97      1945\n",
      "\n"
     ]
    }
   ],
   "source": [
    "print(classification_report(ad_p2,y5_te))"
   ]
  },
  {
   "cell_type": "code",
   "execution_count": 230,
   "id": "a49eefae",
   "metadata": {},
   "outputs": [],
   "source": [
    "adbo_ac2=accuracy_score(ad_p2,y5_te)"
   ]
  },
  {
   "cell_type": "code",
   "execution_count": 231,
   "id": "888aa42c",
   "metadata": {},
   "outputs": [],
   "source": [
    "adbo_pre=precision_score(ad_p2,y5_te)"
   ]
  },
  {
   "cell_type": "code",
   "execution_count": 232,
   "id": "c9095353",
   "metadata": {},
   "outputs": [],
   "source": [
    "adbo_rec=recall_score(ad_p2,y5_te)"
   ]
  },
  {
   "cell_type": "code",
   "execution_count": 233,
   "id": "1a79823f",
   "metadata": {},
   "outputs": [],
   "source": [
    "adbo_f=f1_score(ad_p2,y5_te)"
   ]
  },
  {
   "cell_type": "markdown",
   "id": "7537b44b",
   "metadata": {},
   "source": [
    "# XG Boost"
   ]
  },
  {
   "cell_type": "code",
   "execution_count": 234,
   "id": "91e6bfac",
   "metadata": {},
   "outputs": [],
   "source": [
    "from xgboost import XGBClassifier\n",
    "xgb=XGBClassifier()"
   ]
  },
  {
   "cell_type": "code",
   "execution_count": 235,
   "id": "de07d26f",
   "metadata": {},
   "outputs": [
    {
     "data": {
      "text/plain": [
       "XGBClassifier(base_score=None, booster=None, callbacks=None,\n",
       "              colsample_bylevel=None, colsample_bynode=None,\n",
       "              colsample_bytree=None, early_stopping_rounds=None,\n",
       "              enable_categorical=False, eval_metric=None, feature_types=None,\n",
       "              gamma=None, gpu_id=None, grow_policy=None, importance_type=None,\n",
       "              interaction_constraints=None, learning_rate=None, max_bin=None,\n",
       "              max_cat_threshold=None, max_cat_to_onehot=None,\n",
       "              max_delta_step=None, max_depth=None, max_leaves=None,\n",
       "              min_child_weight=None, missing=nan, monotone_constraints=None,\n",
       "              n_estimators=100, n_jobs=None, num_parallel_tree=None,\n",
       "              predictor=None, random_state=None, ...)"
      ]
     },
     "execution_count": 235,
     "metadata": {},
     "output_type": "execute_result"
    }
   ],
   "source": [
    "xgb.fit(x5_tr,y5_tr)"
   ]
  },
  {
   "cell_type": "code",
   "execution_count": 236,
   "id": "148bcf5f",
   "metadata": {},
   "outputs": [
    {
     "data": {
      "text/plain": [
       "array([1, 0, 1, ..., 1, 1, 1])"
      ]
     },
     "execution_count": 236,
     "metadata": {},
     "output_type": "execute_result"
    }
   ],
   "source": [
    "xgb_p2=xgb.predict(x5_te)\n",
    "xgb_p2"
   ]
  },
  {
   "cell_type": "code",
   "execution_count": 237,
   "id": "0f714b87",
   "metadata": {},
   "outputs": [
    {
     "data": {
      "text/plain": [
       "array([[900,   0],\n",
       "       [ 64, 981]], dtype=int64)"
      ]
     },
     "execution_count": 237,
     "metadata": {},
     "output_type": "execute_result"
    }
   ],
   "source": [
    "xgb_cf1=confusion_matrix(xgb_p2,y5_te)\n",
    "xgb_cf1"
   ]
  },
  {
   "cell_type": "code",
   "execution_count": 238,
   "id": "04f94eae",
   "metadata": {},
   "outputs": [
    {
     "data": {
      "text/plain": [
       "96.70951156812339"
      ]
     },
     "execution_count": 238,
     "metadata": {},
     "output_type": "execute_result"
    }
   ],
   "source": [
    "xgb_acc2=xgb_cf1.diagonal().sum()/xgb_cf1.sum()*100\n",
    "xgb_acc2"
   ]
  },
  {
   "cell_type": "code",
   "execution_count": 239,
   "id": "50303459",
   "metadata": {},
   "outputs": [
    {
     "name": "stdout",
     "output_type": "stream",
     "text": [
      "              precision    recall  f1-score   support\n",
      "\n",
      "           0       0.93      1.00      0.97       900\n",
      "           1       1.00      0.94      0.97      1045\n",
      "\n",
      "    accuracy                           0.97      1945\n",
      "   macro avg       0.97      0.97      0.97      1945\n",
      "weighted avg       0.97      0.97      0.97      1945\n",
      "\n"
     ]
    }
   ],
   "source": [
    "print(classification_report(xgb_p2,y5_te))"
   ]
  },
  {
   "cell_type": "code",
   "execution_count": 240,
   "id": "4e67c1ea",
   "metadata": {},
   "outputs": [],
   "source": [
    "xgb_ac2=accuracy_score(xgb_p2,y5_te)"
   ]
  },
  {
   "cell_type": "code",
   "execution_count": 241,
   "id": "0398bc61",
   "metadata": {},
   "outputs": [],
   "source": [
    "xgb_pre=precision_score(xgb_p2,y5_te)"
   ]
  },
  {
   "cell_type": "code",
   "execution_count": 242,
   "id": "26850ca6",
   "metadata": {},
   "outputs": [],
   "source": [
    "xgb_rec=recall_score(xgb_p2,y5_te)"
   ]
  },
  {
   "cell_type": "code",
   "execution_count": 243,
   "id": "86734bf9",
   "metadata": {},
   "outputs": [],
   "source": [
    "xgb_f=f1_score(xgb_p2,y5_te)"
   ]
  },
  {
   "cell_type": "markdown",
   "id": "d5bb8717",
   "metadata": {},
   "source": [
    "# SVM"
   ]
  },
  {
   "cell_type": "code",
   "execution_count": 244,
   "id": "b8306cc4",
   "metadata": {},
   "outputs": [],
   "source": [
    "from sklearn.svm import SVC\n",
    "svc=SVC()"
   ]
  },
  {
   "cell_type": "code",
   "execution_count": 245,
   "id": "360f905b",
   "metadata": {},
   "outputs": [
    {
     "data": {
      "text/plain": [
       "SVC()"
      ]
     },
     "execution_count": 245,
     "metadata": {},
     "output_type": "execute_result"
    }
   ],
   "source": [
    "svc.fit(x5_tr,y5_tr)"
   ]
  },
  {
   "cell_type": "code",
   "execution_count": 246,
   "id": "6953f088",
   "metadata": {},
   "outputs": [
    {
     "data": {
      "text/plain": [
       "array([1, 0, 1, ..., 1, 1, 0], dtype=int64)"
      ]
     },
     "execution_count": 246,
     "metadata": {},
     "output_type": "execute_result"
    }
   ],
   "source": [
    "s_p2=svc.predict(x5_te)\n",
    "s_p2"
   ]
  },
  {
   "cell_type": "code",
   "execution_count": 247,
   "id": "65316bdd",
   "metadata": {},
   "outputs": [
    {
     "data": {
      "text/plain": [
       "array([[693, 183],\n",
       "       [271, 798]], dtype=int64)"
      ]
     },
     "execution_count": 247,
     "metadata": {},
     "output_type": "execute_result"
    }
   ],
   "source": [
    "s_cf1=confusion_matrix(s_p2,y5_te)\n",
    "s_cf1"
   ]
  },
  {
   "cell_type": "code",
   "execution_count": 248,
   "id": "ff993076",
   "metadata": {},
   "outputs": [
    {
     "data": {
      "text/plain": [
       "76.65809768637533"
      ]
     },
     "execution_count": 248,
     "metadata": {},
     "output_type": "execute_result"
    }
   ],
   "source": [
    "s_acc2=s_cf1.diagonal().sum()/s_cf1.sum()*100\n",
    "s_acc2"
   ]
  },
  {
   "cell_type": "code",
   "execution_count": 249,
   "id": "0a9a0c21",
   "metadata": {},
   "outputs": [
    {
     "name": "stdout",
     "output_type": "stream",
     "text": [
      "              precision    recall  f1-score   support\n",
      "\n",
      "           0       0.72      0.79      0.75       876\n",
      "           1       0.81      0.75      0.78      1069\n",
      "\n",
      "    accuracy                           0.77      1945\n",
      "   macro avg       0.77      0.77      0.77      1945\n",
      "weighted avg       0.77      0.77      0.77      1945\n",
      "\n"
     ]
    }
   ],
   "source": [
    "print(classification_report(s_p2,y5_te))"
   ]
  },
  {
   "cell_type": "code",
   "execution_count": 250,
   "id": "6a644b83",
   "metadata": {},
   "outputs": [],
   "source": [
    "svm_ac2=accuracy_score(s_p2,y5_te)"
   ]
  },
  {
   "cell_type": "code",
   "execution_count": 251,
   "id": "52886cbe",
   "metadata": {},
   "outputs": [],
   "source": [
    "svm_pre=precision_score(s_p2,y5_te)"
   ]
  },
  {
   "cell_type": "code",
   "execution_count": 252,
   "id": "cee5d68f",
   "metadata": {},
   "outputs": [],
   "source": [
    "svm_rec=recall_score(s_p2,y5_te)"
   ]
  },
  {
   "cell_type": "code",
   "execution_count": 253,
   "id": "ab1caca5",
   "metadata": {},
   "outputs": [],
   "source": [
    "svm_f=f1_score(s_p2,y5_te)"
   ]
  },
  {
   "cell_type": "markdown",
   "id": "45ae6dc5",
   "metadata": {},
   "source": [
    "# Naivy Bayes"
   ]
  },
  {
   "cell_type": "code",
   "execution_count": 254,
   "id": "fbf74bc5",
   "metadata": {},
   "outputs": [],
   "source": [
    "from sklearn.naive_bayes import MultinomialNB\n",
    "nb=MultinomialNB()"
   ]
  },
  {
   "cell_type": "code",
   "execution_count": 255,
   "id": "c040eb13",
   "metadata": {},
   "outputs": [
    {
     "data": {
      "text/plain": [
       "MultinomialNB()"
      ]
     },
     "execution_count": 255,
     "metadata": {},
     "output_type": "execute_result"
    }
   ],
   "source": [
    "nb.fit(x5_tr,y5_tr)"
   ]
  },
  {
   "cell_type": "code",
   "execution_count": 256,
   "id": "a02ca206",
   "metadata": {},
   "outputs": [],
   "source": [
    "n_p2=nb.predict(x5_te)"
   ]
  },
  {
   "cell_type": "code",
   "execution_count": 257,
   "id": "9e325908",
   "metadata": {},
   "outputs": [],
   "source": [
    "n_cf1=confusion_matrix(n_p2,y5_te)\n"
   ]
  },
  {
   "cell_type": "code",
   "execution_count": 258,
   "id": "fa9f7131",
   "metadata": {},
   "outputs": [
    {
     "data": {
      "text/plain": [
       "69.61439588688945"
      ]
     },
     "execution_count": 258,
     "metadata": {},
     "output_type": "execute_result"
    }
   ],
   "source": [
    "acc_n=n_cf1.diagonal().sum()/n_cf1.sum()*100\n",
    "acc_n"
   ]
  },
  {
   "cell_type": "code",
   "execution_count": 259,
   "id": "747f15b2",
   "metadata": {},
   "outputs": [
    {
     "name": "stdout",
     "output_type": "stream",
     "text": [
      "              precision    recall  f1-score   support\n",
      "\n",
      "           0       0.63      0.72      0.67       833\n",
      "           1       0.77      0.68      0.72      1112\n",
      "\n",
      "    accuracy                           0.70      1945\n",
      "   macro avg       0.70      0.70      0.69      1945\n",
      "weighted avg       0.71      0.70      0.70      1945\n",
      "\n"
     ]
    }
   ],
   "source": [
    "print(classification_report(n_p2,y5_te))"
   ]
  },
  {
   "cell_type": "code",
   "execution_count": 260,
   "id": "1bbe0193",
   "metadata": {},
   "outputs": [],
   "source": [
    "nb_ac2=accuracy_score(n_p2,y5_te)"
   ]
  },
  {
   "cell_type": "code",
   "execution_count": 261,
   "id": "802e74c3",
   "metadata": {},
   "outputs": [],
   "source": [
    "nb_pre=precision_score(n_p2,y5_te)"
   ]
  },
  {
   "cell_type": "code",
   "execution_count": 262,
   "id": "be90e391",
   "metadata": {},
   "outputs": [],
   "source": [
    "nb_rec=recall_score(n_p2,y5_te)"
   ]
  },
  {
   "cell_type": "code",
   "execution_count": 263,
   "id": "4a3ecbd4",
   "metadata": {},
   "outputs": [],
   "source": [
    "nb_f=f1_score(n_p2,y5_te)"
   ]
  },
  {
   "cell_type": "code",
   "execution_count": 264,
   "id": "a54495fb",
   "metadata": {},
   "outputs": [],
   "source": [
    "list_6=[\"LOGISTIC REGRESSION\",\"DECISION TREE\",\"KNN\",\"RANDOM FOREST\",\"ADA BOOST\",\"XGBOOST\",\"SVM\",\"NAIVEY BAYES\"]\n",
    "list_7=[lg_ac2,dt_ac2,K_ac2,rf_ac2,adbo_ac2,xgb_ac2,svm_ac2,nb_ac2]\n",
    "list_8=[lg_pre,dt_pre,K_pre,rf_pre,adbo_pre,xgb_pre,svm_pre,nb_pre]\n",
    "list_9=[lg_rec,dt_rec,K_rec,rf_rec,adbo_rec,xgb_rec,svm_rec,nb_rec]\n",
    "list_10=[lg_f,dt_f,K_f,rf_f,adbo_f,xgb_f,svm_f,nb_f]"
   ]
  },
  {
   "cell_type": "code",
   "execution_count": 265,
   "id": "640ab3e8",
   "metadata": {},
   "outputs": [
    {
     "data": {
      "text/html": [
       "<div>\n",
       "<style scoped>\n",
       "    .dataframe tbody tr th:only-of-type {\n",
       "        vertical-align: middle;\n",
       "    }\n",
       "\n",
       "    .dataframe tbody tr th {\n",
       "        vertical-align: top;\n",
       "    }\n",
       "\n",
       "    .dataframe thead th {\n",
       "        text-align: right;\n",
       "    }\n",
       "</style>\n",
       "<table border=\"1\" class=\"dataframe\">\n",
       "  <thead>\n",
       "    <tr style=\"text-align: right;\">\n",
       "      <th></th>\n",
       "      <th>Model Name</th>\n",
       "      <th>Accuracy</th>\n",
       "      <th>Precision</th>\n",
       "      <th>Recall</th>\n",
       "      <th>F1_score</th>\n",
       "    </tr>\n",
       "  </thead>\n",
       "  <tbody>\n",
       "    <tr>\n",
       "      <th>0</th>\n",
       "      <td>LOGISTIC REGRESSION</td>\n",
       "      <td>0.773265</td>\n",
       "      <td>0.829766</td>\n",
       "      <td>0.748162</td>\n",
       "      <td>0.786854</td>\n",
       "    </tr>\n",
       "    <tr>\n",
       "      <th>1</th>\n",
       "      <td>DECISION TREE</td>\n",
       "      <td>0.971722</td>\n",
       "      <td>1.000000</td>\n",
       "      <td>0.946911</td>\n",
       "      <td>0.972732</td>\n",
       "    </tr>\n",
       "    <tr>\n",
       "      <th>2</th>\n",
       "      <td>KNN</td>\n",
       "      <td>0.906427</td>\n",
       "      <td>1.000000</td>\n",
       "      <td>0.843508</td>\n",
       "      <td>0.915112</td>\n",
       "    </tr>\n",
       "    <tr>\n",
       "      <th>3</th>\n",
       "      <td>RANDOM FOREST</td>\n",
       "      <td>0.988175</td>\n",
       "      <td>1.000000</td>\n",
       "      <td>0.977092</td>\n",
       "      <td>0.988413</td>\n",
       "    </tr>\n",
       "    <tr>\n",
       "      <th>4</th>\n",
       "      <td>ADA BOOST</td>\n",
       "      <td>0.973265</td>\n",
       "      <td>1.000000</td>\n",
       "      <td>0.949661</td>\n",
       "      <td>0.974181</td>\n",
       "    </tr>\n",
       "    <tr>\n",
       "      <th>5</th>\n",
       "      <td>XGBOOST</td>\n",
       "      <td>0.967095</td>\n",
       "      <td>1.000000</td>\n",
       "      <td>0.938756</td>\n",
       "      <td>0.968411</td>\n",
       "    </tr>\n",
       "    <tr>\n",
       "      <th>6</th>\n",
       "      <td>SVM</td>\n",
       "      <td>0.766581</td>\n",
       "      <td>0.813456</td>\n",
       "      <td>0.746492</td>\n",
       "      <td>0.778537</td>\n",
       "    </tr>\n",
       "    <tr>\n",
       "      <th>7</th>\n",
       "      <td>NAIVEY BAYES</td>\n",
       "      <td>0.696144</td>\n",
       "      <td>0.765545</td>\n",
       "      <td>0.675360</td>\n",
       "      <td>0.717630</td>\n",
       "    </tr>\n",
       "  </tbody>\n",
       "</table>\n",
       "</div>"
      ],
      "text/plain": [
       "            Model Name  Accuracy  Precision    Recall  F1_score\n",
       "0  LOGISTIC REGRESSION  0.773265   0.829766  0.748162  0.786854\n",
       "1        DECISION TREE  0.971722   1.000000  0.946911  0.972732\n",
       "2                  KNN  0.906427   1.000000  0.843508  0.915112\n",
       "3        RANDOM FOREST  0.988175   1.000000  0.977092  0.988413\n",
       "4            ADA BOOST  0.973265   1.000000  0.949661  0.974181\n",
       "5              XGBOOST  0.967095   1.000000  0.938756  0.968411\n",
       "6                  SVM  0.766581   0.813456  0.746492  0.778537\n",
       "7         NAIVEY BAYES  0.696144   0.765545  0.675360  0.717630"
      ]
     },
     "execution_count": 265,
     "metadata": {},
     "output_type": "execute_result"
    }
   ],
   "source": [
    "d2=pd.DataFrame({\"Model Name\":list_6,\"Accuracy\":list_7,\"Precision\":list_8,\"Recall\":list_9,\"F1_score\":list_10})\n",
    "d2"
   ]
  }
 ],
 "metadata": {
  "kernelspec": {
   "display_name": "Python 3 (ipykernel)",
   "language": "python",
   "name": "python3"
  },
  "language_info": {
   "codemirror_mode": {
    "name": "ipython",
    "version": 3
   },
   "file_extension": ".py",
   "mimetype": "text/x-python",
   "name": "python",
   "nbconvert_exporter": "python",
   "pygments_lexer": "ipython3",
   "version": "3.9.13"
  }
 },
 "nbformat": 4,
 "nbformat_minor": 5
}
